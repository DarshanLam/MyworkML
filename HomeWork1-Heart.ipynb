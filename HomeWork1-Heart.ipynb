{
 "cells": [
  {
   "cell_type": "code",
   "execution_count": null,
   "id": "a63570a4",
   "metadata": {},
   "outputs": [],
   "source": [
    "import pandas as pd\n",
    "import numpy as np\n",
    "import matplotlib.pyplot as plt\n",
    "import matplotlib.colors as colors\n"
   ]
  },
  {
   "cell_type": "code",
   "execution_count": null,
   "id": "db854792",
   "metadata": {},
   "outputs": [],
   "source": [
    "from sklearn.model_selection import train_test_split\n",
    "from sklearn.model_selection import RandomizedSearchCV\n",
    "from sklearn.model_selection import cross_validate\n",
    "from sklearn.model_selection import KFold\n",
    "from sklearn.model_selection import learning_curve\n",
    "from sklearn.model_selection import GridSearchCV\n",
    "from sklearn.model_selection import cross_val_score\n",
    "\n",
    "from sklearn.neighbors import KNeighborsClassifier\n",
    "\n",
    "\n",
    "from sklearn.utils import resample\n",
    "\n",
    "from sklearn.preprocessing import scale\n",
    "from sklearn.preprocessing import StandardScaler\n",
    "\n",
    "from sklearn.svm import SVC\n",
    "from sklearn.svm import NuSVR\n",
    "\n",
    "\n",
    "\n",
    "from sklearn.tree import DecisionTreeClassifier, export_graphviz\n",
    "from sklearn.tree import plot_tree\n",
    "\n",
    "from sklearn.ensemble import GradientBoostingClassifier\n",
    "\n",
    "from sklearn import metrics\n",
    "from sklearn.metrics import accuracy_score\n",
    "from sklearn.metrics import confusion_matrix\n",
    "from sklearn.metrics import plot_confusion_matrix\n",
    "\n",
    "from sklearn.decomposition import PCA\n",
    "\n",
    "\n",
    "import time"
   ]
  },
  {
   "cell_type": "code",
   "execution_count": null,
   "id": "96317b26",
   "metadata": {},
   "outputs": [],
   "source": [
    "data = pd.read_csv('Data/1 HeartDisease/Heart_Data.csv')\n",
    "data.head()"
   ]
  },
  {
   "cell_type": "code",
   "execution_count": null,
   "id": "4488e096",
   "metadata": {},
   "outputs": [],
   "source": [
    "#Evaluate the data, \n",
    "# all rows are filled\n",
    "# all the independent variavles are well distributed\n",
    "data.describe()"
   ]
  },
  {
   "cell_type": "code",
   "execution_count": null,
   "id": "2e43699b",
   "metadata": {},
   "outputs": [],
   "source": [
    "data['oldpeak'].unique()"
   ]
  },
  {
   "cell_type": "code",
   "execution_count": null,
   "id": "c82ca9dd",
   "metadata": {},
   "outputs": [],
   "source": [
    "#show that the target is about 50%\n",
    "data.groupby('target').size()"
   ]
  },
  {
   "cell_type": "code",
   "execution_count": null,
   "id": "a1de34fe",
   "metadata": {},
   "outputs": [],
   "source": [
    "# Set up the dATA\n",
    "X = data.drop(['target'], axis = 1)\n",
    "y = data[['target']]"
   ]
  },
  {
   "cell_type": "code",
   "execution_count": null,
   "id": "f779fac9",
   "metadata": {},
   "outputs": [],
   "source": [
    "X = data.drop('target', axis = 1).copy()\n",
    "X.head()"
   ]
  },
  {
   "cell_type": "code",
   "execution_count": null,
   "id": "f4c435ef",
   "metadata": {},
   "outputs": [],
   "source": [
    "y = data['target'].copy()\n",
    "y.head()"
   ]
  },
  {
   "cell_type": "code",
   "execution_count": null,
   "id": "1ff1167f",
   "metadata": {},
   "outputs": [],
   "source": [
    "# X = data.iloc\n",
    "# y = data.iloc[:, -1].values\n",
    "# y = y.reshape(len(y),1)\n",
    "# y.head()"
   ]
  },
  {
   "cell_type": "code",
   "execution_count": null,
   "id": "b07e49a8",
   "metadata": {},
   "outputs": [],
   "source": [
    "# check results\n",
    "X.info()"
   ]
  },
  {
   "cell_type": "code",
   "execution_count": null,
   "id": "8c345351",
   "metadata": {},
   "outputs": [],
   "source": [
    "# check results\n",
    "y.info()"
   ]
  },
  {
   "cell_type": "code",
   "execution_count": null,
   "id": "744af32e",
   "metadata": {},
   "outputs": [],
   "source": [
    "X_train, X_test, y_train, y_test = train_test_split(X, y, test_size=0.2)\n",
    "X_train.shape, X_test.shape, y_train.shape, y_test.shape"
   ]
  },
  {
   "cell_type": "code",
   "execution_count": null,
   "id": "e89cc862",
   "metadata": {},
   "outputs": [],
   "source": [
    "##################\n",
    "#\n",
    "# Decision Tree\n",
    "#\n",
    "##################"
   ]
  },
  {
   "cell_type": "code",
   "execution_count": null,
   "id": "c7becb5d",
   "metadata": {},
   "outputs": [],
   "source": [
    "model_tree = DecisionTreeClassifier(max_leaf_nodes=8, class_weight='balanced', criterion ='entropy')\n",
    "model_tree.fit(X_train, y_train)"
   ]
  },
  {
   "cell_type": "code",
   "execution_count": null,
   "id": "07199f02",
   "metadata": {},
   "outputs": [],
   "source": [
    "var_columns = [c for c in X_train.columns]\n",
    "print(var_columns)"
   ]
  },
  {
   "cell_type": "code",
   "execution_count": null,
   "id": "984b6449",
   "metadata": {},
   "outputs": [],
   "source": [
    "plt.figure(figsize=(20,10))\n",
    "\n",
    "var_columns = [c for c in X_train.columns]\n",
    "\n",
    "plot_tree(model_tree,\n",
    "         feature_names = var_columns,\n",
    "         class_names = [\"0\", \"1\"],\n",
    "         rounded = True,\n",
    "         filled = True)\n",
    "\n",
    "plt.show()"
   ]
  },
  {
   "cell_type": "code",
   "execution_count": null,
   "id": "0e8a4e1d",
   "metadata": {},
   "outputs": [],
   "source": [
    "y_train_pred = model_tree.predict(X_train)\n",
    "y_test_pred = model_tree.predict(X_test)\n",
    "# print('y_train_pred :', y_train_pred)\n",
    "# print('y_test_prod :', y_test_prod)"
   ]
  },
  {
   "cell_type": "code",
   "execution_count": null,
   "id": "465c5780",
   "metadata": {},
   "outputs": [],
   "source": [
    "auc_train = metrics.roc_auc_score(y_train, y_train_pred)\n",
    "auc_test = metrics.roc_auc_score(y_test, y_test_pred)\n",
    "\n",
    "print(\"AUC Train = {}\\nAUC Test = {}\".format(round(auc_train,4), round(auc_test,4)))"
   ]
  },
  {
   "cell_type": "code",
   "execution_count": null,
   "id": "418d3b52",
   "metadata": {},
   "outputs": [],
   "source": [
    "print(f'Train Accuracy - : {model_tree.score(X_train, y_train):.3f}')\n",
    "print(f'Test Accuracy - : {model_tree.score(X_test, y_test):.3f}')"
   ]
  },
  {
   "cell_type": "code",
   "execution_count": null,
   "id": "f54f9d54",
   "metadata": {},
   "outputs": [],
   "source": [
    "def tree_training(max_depth, X_train, X_test, y_train, y_test):\n",
    "    \n",
    "#     model_tree = DecisionTreeClassifier(max_depth=max_depth, class_weight='balanced')\n",
    "    model_tree = DecisionTreeClassifier(max_depth=max_depth, class_weight='balanced', criterion ='entropy')\n",
    "\n",
    "    model_tree.fit(X_train, y_train)\n",
    "    \n",
    "    #train_pred = model_tree.predict(X_train)\n",
    "    test_pred = model_tree.predict(X_test)\n",
    "    \n",
    "    test_score = metrics.accuracy_score(y_test, test_pred)\n",
    "    \n",
    "#     auc_train = metrics.roc_auc_score(y_train, y_train_pred)\n",
    "#     auc_test = metrics.roc_auc_score(y_test, y_test_pred)\n",
    "    \n",
    "#     print(\"Depth:{}, Train:{:.4f}, Test:{:.4f}, Diff:{:.4f}\".format(max_depth,\n",
    "#                                                                      auc_train,\n",
    "#                                                                      auc_test,\n",
    "#                                                                      auc_train-auc_test))\n",
    "\n",
    "    print(\"Depth:{}, predict:{:.4f}\".format(max_depth, test_score))\n",
    "          "
   ]
  },
  {
   "cell_type": "code",
   "execution_count": null,
   "id": "471c28b3",
   "metadata": {},
   "outputs": [],
   "source": [
    "# split = [0.2, 0.4, 0.6, 0.8]\n",
    "split = [0.1, 0.2, 0.3, 0.4, 0.5, 0.6, 0.7, 0.8]\n",
    "\n",
    "\n",
    "cnt = 1\n",
    "for i in range (0 , len(split)):\n",
    "    print(f\"Run count {cnt}, persentage data {split[i]}\")\n",
    "#     if cnt == 1:\n",
    "#         X_train = X\n",
    "#         y_train = y\n",
    "#     else:\n",
    "#         X_train, X_test, y_train, y_test = train_test_split(X, y, test_size=split[i])\n",
    "#     print(X_train.shape, y_train.shape)\n",
    "    \n",
    "        \n",
    "#     X_train, X_test, y_train, y_test = train_test_split(X_train, y_train, test_size=0.2)\n",
    "    X_train, X_test, y_train, y_test = train_test_split(X, y, test_size=split[i])\n",
    "    \n",
    "    print(X_train.shape, X_test.shape, y_train.shape, y_test.shape)\n",
    "\n",
    "\n",
    "    time_st = time.perf_counter()\n",
    "    for i in range(2, 20):\n",
    "        tree_training(i, X_train,  X_test, y_train, y_test)\n",
    "    time_end = time.perf_counter()\n",
    "    print(f\"time to run itteration {time_end - time_st:0.4f} seconds\")\n",
    "    \n",
    "    cnt = cnt + 1\n",
    "    "
   ]
  },
  {
   "cell_type": "code",
   "execution_count": null,
   "id": "6d6b8e37",
   "metadata": {},
   "outputs": [],
   "source": [
    "# split = [0, 0.2, 0.4, 0.6, 0.8]\n",
    "split = [0, 0.1, 0.2, 0.3, 0.4, 0.5, 0.6, 0.7, 0.8]\n",
    "\n",
    "\n",
    "cnt = 1\n",
    "for i in range (0 , len(split)):\n",
    "    print(f\"Run count {cnt}, persentage data {split[i]}\")\n",
    "    if cnt == 1:\n",
    "        X_train = X\n",
    "        y_train = y\n",
    "    else:\n",
    "        X_train, X_test, y_train, y_test = train_test_split(X, y, test_size=split[i])\n",
    "    print(X_train.shape, y_train.shape)\n",
    "    \n",
    "        \n",
    "    X_train, X_test, y_train, y_test = train_test_split(X_train, y_train, test_size=0.2)\n",
    "\n",
    "    \n",
    "    print(X_train.shape, X_test.shape, y_train.shape, y_test.shape)\n",
    "\n",
    "\n",
    "    time_st = time.perf_counter()\n",
    "    for i in range(2, 20):\n",
    "        tree_training(i, X_train,  X_test, y_train, y_test)\n",
    "    time_end = time.perf_counter()\n",
    "    print(f\"time to run itteration {time_end - time_st:0.4f} seconds\")\n",
    "    \n",
    "    cnt = cnt + 1"
   ]
  },
  {
   "cell_type": "code",
   "execution_count": null,
   "id": "e757faa5",
   "metadata": {},
   "outputs": [],
   "source": [
    "kfold = KFold(5, shuffle=True, random_state=1)\n",
    "\n",
    "for idx_train, idx_test in kfold.split(data):\n",
    "    X_train = data.loc[idx_train, var_columns]\n",
    "    y_train = data.loc[idx_train, 'target']\n",
    "    \n",
    "    X_test = data.loc[idx_test, var_columns]\n",
    "    y_test = data.loc[idx_test, 'target']\n",
    "    \n",
    "    # Try 10 leaf nodes, we saw lot of leaf nodes don't increase performance\n",
    "    print(\"Iteration Starts\")\n",
    "    for i in range(2, 20):\n",
    "        tree_training(i, X_train, y_train, X_test, y_test)\n",
    "    \n",
    "    print(\"Iteration Ends\\n-----------------------\")"
   ]
  },
  {
   "cell_type": "code",
   "execution_count": null,
   "id": "0b703af2",
   "metadata": {},
   "outputs": [],
   "source": [
    "train_sizes, train_scores, test_scores = learning_curve(DecisionTreeClassifier(max_depth=20, class_weight='balanced'), X, y, scoring='accuracy', n_jobs=-1, cv = 10, train_sizes=np.linspace(0.01, 1, 50), verbose=1 )"
   ]
  },
  {
   "cell_type": "code",
   "execution_count": null,
   "id": "8846ebfa",
   "metadata": {},
   "outputs": [],
   "source": [
    "train_mean = np.mean(train_scores, axis = 1)\n",
    "train_mean"
   ]
  },
  {
   "cell_type": "code",
   "execution_count": null,
   "id": "cb4d830c",
   "metadata": {},
   "outputs": [],
   "source": [
    "train_std = np.std(train_scores, axis = 1)\n",
    "train_std"
   ]
  },
  {
   "cell_type": "code",
   "execution_count": null,
   "id": "7d1a64d7",
   "metadata": {},
   "outputs": [],
   "source": [
    "test_mean = np.mean(test_scores, axis = 1)\n",
    "test_mean"
   ]
  },
  {
   "cell_type": "code",
   "execution_count": null,
   "id": "81e4577a",
   "metadata": {},
   "outputs": [],
   "source": [
    "test_std = np.std(test_scores, axis = 1)\n",
    "test_std"
   ]
  },
  {
   "cell_type": "code",
   "execution_count": null,
   "id": "776463d7",
   "metadata": {},
   "outputs": [],
   "source": [
    "savePlot = True\n",
    "plt.plot(train_sizes, train_mean, label = 'Training Score')\n",
    "plt.plot(train_sizes, test_mean, label = 'Cross-Validation Score')\n",
    "\n",
    "plt.fill_between(train_sizes, train_mean-train_std, train_mean+train_std, color='#DDDDDD')\n",
    "plt.fill_between(train_sizes, test_mean-test_std, test_mean+test_std, color='#DDDDDD')\n",
    "\n",
    "plt.title('Learning Curve (Decision Tree)')\n",
    "plt.xlabel('Training Size')\n",
    "plt.ylabel('Accuracy Score')\n",
    "plt.legend(loc = 'best')\n",
    "if savePlot:\n",
    "    plt.savefig('images/Assgn1_DT_Heart.png')"
   ]
  },
  {
   "cell_type": "code",
   "execution_count": null,
   "id": "01a70d49",
   "metadata": {},
   "outputs": [],
   "source": [
    "##################\n",
    "#\n",
    "# NEURAL NETWORKS\n",
    "#\n",
    "##################"
   ]
  },
  {
   "cell_type": "code",
   "execution_count": null,
   "id": "fc022edf",
   "metadata": {},
   "outputs": [],
   "source": [
    "from sklearn.neural_network import MLPClassifier\n",
    "\n",
    "hidden_layer = 120\n",
    "acitvation = 'logistic'\n",
    "solver = 'adam'\n",
    "learning_rate = 'constant'"
   ]
  },
  {
   "cell_type": "code",
   "execution_count": null,
   "id": "4a1d0bbb",
   "metadata": {},
   "outputs": [],
   "source": [
    "X_train, X_test, y_train, y_test = train_test_split(X, y, test_size=0.2)\n",
    "X_train.shape, X_test.shape, y_train.shape, y_test.shape"
   ]
  },
  {
   "cell_type": "code",
   "execution_count": null,
   "id": "db604950",
   "metadata": {},
   "outputs": [],
   "source": [
    "model_nn = MLPClassifier()\n",
    "model_nn.fit(X_train, y_train)\n",
    "\n",
    "train_pred = model_nn.predict(X_train) \n",
    "train_score = round(metrics.accuracy_score(y_train, train_pred) * 100, 2)\n",
    "\n",
    "test_pred = model_nn.predict(X_test) \n",
    "test_score = round(metrics.accuracy_score(y_test, test_pred) * 100, 2)\n",
    "\n",
    "print(train_score, test_score)\n"
   ]
  },
  {
   "cell_type": "code",
   "execution_count": null,
   "id": "7435119e",
   "metadata": {},
   "outputs": [],
   "source": [
    "model_nn = MLPClassifier(hidden_layer_sizes=(hidden_layer,), activation=acitvation)\n",
    "#, *, solver='adam', alpha=0.0001, batch_size='auto', learning_rate='constant', learning_rate_init=0.001, power_t=0.5, max_iter=200, shuffle=True, random_state=None, tol=0.0001, verbose=False, warm_start=False, momentum=0.9, nesterovs_momentum=True, early_stopping=False, validation_fraction=0.1, beta_1=0.9, beta_2=0.999, epsilon=1e-08, n_iter_no_change=10, max_fun=15000)\n",
    "#model_nn = MLPClassifier(hidden_layer_sizes=(100,), activation='relu', *, solver='adam', alpha=0.0001, batch_size='auto', learning_rate='constant', learning_rate_init=0.001, power_t=0.5, max_iter=200, shuffle=True, random_state=None, tol=0.0001, verbose=False, warm_start=False, momentum=0.9, nesterovs_momentum=True, early_stopping=False, validation_fraction=0.1, beta_1=0.9, beta_2=0.999, epsilon=1e-08, n_iter_no_change=10, max_fun=15000)\n",
    "model_nn.fit(X_train, y_train)\n",
    "\n",
    "train_pred = model_nn.predict(X_train) \n",
    "train_score = round(metrics.accuracy_score(y_train, train_pred) * 100, 2)\n",
    "\n",
    "test_pred = model_nn.predict(X_test) \n",
    "test_score = round(metrics.accuracy_score(y_test, test_pred) * 100, 2)\n",
    "\n",
    "print(train_score, test_score)"
   ]
  },
  {
   "cell_type": "code",
   "execution_count": null,
   "id": "0308d2fd",
   "metadata": {},
   "outputs": [],
   "source": [
    "train_sizes, train_scores, test_scores = learning_curve(MLPClassifier(hidden_layer_sizes=(hidden_layer,), activation=acitvation), X, y, scoring='accuracy', n_jobs=-1, cv = 10, train_sizes=np.linspace(0.01, 1, 50), verbose=1 )"
   ]
  },
  {
   "cell_type": "code",
   "execution_count": null,
   "id": "49d3b01e",
   "metadata": {},
   "outputs": [],
   "source": [
    "train_mean = np.mean(train_scores, axis = 1)\n",
    "train_std = np.std(train_scores, axis = 1)\n",
    "test_mean = np.mean(test_scores, axis = 1)\n",
    "test_std = np.std(test_scores, axis = 1)"
   ]
  },
  {
   "cell_type": "code",
   "execution_count": null,
   "id": "9d922d08",
   "metadata": {},
   "outputs": [],
   "source": [
    "savePlot = True\n",
    "plt.plot(train_sizes, train_mean, label = 'Training Score')\n",
    "plt.plot(train_sizes, test_mean, label = 'Neural Network Score')\n",
    "\n",
    "plt.fill_between(train_sizes, train_mean-train_std, train_mean+train_std, color='#DDDDDD')\n",
    "plt.fill_between(train_sizes, test_mean-test_std, test_mean+test_std, color='#DDDDDD')\n",
    "\n",
    "plt.title('Learning Curve (Neural Networks)')\n",
    "plt.xlabel('Training Size')\n",
    "plt.ylabel('Accuracy Score')\n",
    "plt.legend(loc = 'best')\n",
    "# if savePlot:\n",
    "#     plt.savefig('images/Assgn1_NN_Heart.png')"
   ]
  },
  {
   "cell_type": "code",
   "execution_count": null,
   "id": "491b0dce",
   "metadata": {},
   "outputs": [],
   "source": [
    "# if savePlot:\n",
    "#     plt.savefig('images/Assgn1_NN_Heart.png')"
   ]
  },
  {
   "cell_type": "code",
   "execution_count": null,
   "id": "50187f33",
   "metadata": {},
   "outputs": [],
   "source": [
    "##################\n",
    "#\n",
    "# Boosting using Gradient Boosting\n",
    "#\n",
    "##################"
   ]
  },
  {
   "cell_type": "code",
   "execution_count": null,
   "id": "53ca9161",
   "metadata": {},
   "outputs": [],
   "source": [
    "from sklearn.ensemble import RandomForestClassifier"
   ]
  },
  {
   "cell_type": "code",
   "execution_count": null,
   "id": "ae3a15a8",
   "metadata": {},
   "outputs": [],
   "source": [
    "num_trees = 150\n",
    "max_depth = 4\n",
    "\n",
    "model_rf = RandomForestClassifier(n_estimators=num_trees, max_depth=max_depth, class_weight='balanced')\n",
    "\n",
    "model_rf.fit(X_train, y_train)"
   ]
  },
  {
   "cell_type": "code",
   "execution_count": null,
   "id": "431304df",
   "metadata": {},
   "outputs": [],
   "source": [
    "y_train_pred = model_rf.predict(X_train)\n",
    "y_test_pred = model_rf.predict(X_test)"
   ]
  },
  {
   "cell_type": "code",
   "execution_count": null,
   "id": "1383e1e9",
   "metadata": {},
   "outputs": [],
   "source": [
    "train_sizes, train_scores, test_scores = learning_curve(RandomForestClassifier(n_estimators=num_trees, max_depth=max_depth, class_weight='balanced'), X, y, scoring='accuracy', n_jobs=-1,  train_sizes=np.linspace(0.01, 1, 50), verbose=1 )"
   ]
  },
  {
   "cell_type": "code",
   "execution_count": null,
   "id": "bc3d7c43",
   "metadata": {},
   "outputs": [],
   "source": [
    "train_mean = np.mean(train_scores, axis = 1)\n",
    "train_std = np.std(train_scores, axis = 1)\n",
    "test_mean = np.mean(test_scores, axis = 1)\n",
    "test_std = np.std(test_scores, axis = 1)"
   ]
  },
  {
   "cell_type": "code",
   "execution_count": null,
   "id": "5e823a00",
   "metadata": {},
   "outputs": [],
   "source": [
    "TrainingSet = [10, 32, 53, 75, 97, 118, 140, 162, 183, 205, 227, 248, 270, 292, 313, 335, 356, 378, 400, 421, 443, 465, 486, 508, 530, 551, 573, 594, 616, 638, 659, 681, 703, 724, 746, 768, 789, 811, 832, 854, 876, 897, 919, 941, 962, 984, 1006, 1027, 1049, 1071, 1090]\n",
    "\n",
    "size_data = 1190\n",
    "step = .02\n",
    "total = 50\n",
    "\n",
    "num_trees = 210\n",
    "max_depth = 40\n",
    "\n",
    "# n_estimators = 210\n",
    "# max_features = 'log2'\n",
    "# max_depth = 40\n",
    "# criterion = 'gini'\n",
    "\n",
    "test_mean = []\n",
    "train_mean = []\n",
    "\n",
    "cnt = 1\n",
    "time_st = time.perf_counter()\n",
    "\n",
    "for i in TrainingSet:\n",
    "    \n",
    "    df1 = data.iloc[:i]\n",
    "    # print(df1.shape)\n",
    "    \n",
    "    X = df1.drop(['target'], axis = 1)\n",
    "    y = df1[['target']]\n",
    "    \n",
    "    X_train, X_test, y_train, y_test = train_test_split(X, y, test_size=0.2)\n",
    "    \n",
    "    model_rf = RandomForestClassifier(n_estimators=num_trees, max_depth=max_depth, class_weight='balanced',max_features = 'log2')\n",
    "    \n",
    "    model_rf.fit(X_train, y_train)\n",
    "      \n",
    "    y_train_pred = model_rf.predict(X_train)\n",
    "    y_test_pred = model_rf.predict(X_test)\n",
    "    \n",
    "    train_ans = accuracy_score(y_train, y_train_pred)\n",
    "    test_ans = accuracy_score(y_test, y_test_pred)\n",
    "    \n",
    "    print(df1.shape[0], train_ans, test_ans)\n",
    "    \n",
    "    train_mean.append(train_ans)\n",
    "    test_mean.append(test_ans)\n",
    "    \n",
    "time_end = time.perf_counter()\n",
    "print(f\"time to run itteration {time_end - time_st:0.4f} seconds\")\n",
    "\n"
   ]
  },
  {
   "cell_type": "code",
   "execution_count": null,
   "id": "9857edd3",
   "metadata": {},
   "outputs": [],
   "source": [
    "for i in range(0, len(test_mean)):\n",
    "    #print(TrainingSet[i], train_mean[i], test_mean[i], )\n",
    "    a = 1\n"
   ]
  },
  {
   "cell_type": "code",
   "execution_count": null,
   "id": "ec871a27",
   "metadata": {},
   "outputs": [],
   "source": [
    "savePlot = True\n",
    "train_sizes = TrainingSet\n",
    "plt.plot(train_sizes, train_mean, label = 'Training Score')\n",
    "plt.plot(train_sizes, test_mean, label = 'Random Forest Score')\n",
    "\n",
    "# plt.fill_between(train_sizes, train_mean-train_std, train_mean+train_std, color='#DDDDDD')\n",
    "# plt.fill_between(train_sizes, test_mean-test_std, test_mean+test_std, color='#DDDDDD')\n",
    "\n",
    "plt.title('Learning Curve (Random Forest)')\n",
    "plt.xlabel('Training Size')\n",
    "plt.ylabel('Accuracy Score')\n",
    "plt.legend(loc = 'best')\n",
    "# if savePlot:\n",
    "#     plt.savefig('images/Assgn1_RF_Heart.png')"
   ]
  },
  {
   "cell_type": "code",
   "execution_count": null,
   "id": "dae63913",
   "metadata": {},
   "outputs": [],
   "source": [
    "from sklearn.model_selection import RandomizedSearchCV, GridSearchCV"
   ]
  },
  {
   "cell_type": "code",
   "execution_count": null,
   "id": "044a3b4e",
   "metadata": {},
   "outputs": [],
   "source": [
    "n_estimators_list = list(range(10,220,50))\n",
    "criterion_list = ['gini', 'entropy']\n",
    "max_depth_list = list(range(5,41,5))\n",
    "max_depth_list.append(None)\n",
    "# min_samples_split_list = [x/1000 for x in list(range(5, 41, 10))]\n",
    "# min_samples_leaf_list = [x/1000 for x in list(range(5, 41, 10))]\n",
    "max_features_list = ['sqrt', 'log2']\n",
    "\n",
    "params_grid = {\n",
    "    'n_estimators': n_estimators_list,\n",
    "    'criterion': criterion_list,\n",
    "    'max_depth': max_depth_list,\n",
    "    'max_features': max_features_list\n",
    "}\n",
    "\n",
    "num_combinations = 1\n",
    "for k in params_grid.keys(): num_combinations *= len(params_grid[k])\n",
    "\n",
    "print('Number of combinations = ', num_combinations)\n",
    "params_grid"
   ]
  },
  {
   "cell_type": "code",
   "execution_count": null,
   "id": "4acd4ac5",
   "metadata": {},
   "outputs": [],
   "source": [
    "def my_roc_auc_score(model, X, y): return metrics.roc_auc_score(y, model.predict(X))\n",
    "\n",
    "model_rf = RandomizedSearchCV(estimator=RandomForestClassifier(class_weight='balanced'),\n",
    "                              param_distributions=params_grid,\n",
    "                              n_iter=50,\n",
    "                              cv=10,\n",
    "                              scoring=my_roc_auc_score,\n",
    "                              return_train_score=True,\n",
    "                              verbose=2)\n",
    "\n",
    "model_rf.fit(X,y)"
   ]
  },
  {
   "cell_type": "code",
   "execution_count": null,
   "id": "817690f4",
   "metadata": {},
   "outputs": [],
   "source": [
    "model_rf.best_params_"
   ]
  },
  {
   "cell_type": "code",
   "execution_count": null,
   "id": "d5880972",
   "metadata": {},
   "outputs": [],
   "source": [
    "##################\n",
    "#\n",
    "# Support Vector Machines\n",
    "#\n",
    "##################"
   ]
  },
  {
   "cell_type": "code",
   "execution_count": null,
   "id": "9e0838d1",
   "metadata": {},
   "outputs": [],
   "source": [
    "y.head()"
   ]
  },
  {
   "cell_type": "code",
   "execution_count": null,
   "id": "ab51058d",
   "metadata": {},
   "outputs": [],
   "source": [
    "X_encoded = pd.get_dummies(X, columns=['sex', 'chest pain type', 'fasting blood sugar', 'resting ecg', 'exercise angina', 'ST slope'])\n",
    "# X_encoded.head()\n",
    "data_encoded = pd.concat([X_encoded, y], axis=1)\n",
    "data_encoded.head()"
   ]
  },
  {
   "cell_type": "code",
   "execution_count": null,
   "id": "6aa9078f",
   "metadata": {},
   "outputs": [],
   "source": [
    "data_encoded = pd.get_dummies(X, columns=['sex', 'chest pain type', 'fasting blood sugar', 'resting ecg', 'exercise angina', 'ST slope'])\n",
    "data_encoded.head()"
   ]
  },
  {
   "cell_type": "code",
   "execution_count": null,
   "id": "5af69b81",
   "metadata": {},
   "outputs": [],
   "source": [
    "X_train, X_test, y_train, y_test = train_test_split(X_encoded, y, test_size=0.2)\n",
    "X_train_scaled = scale(X_train)\n",
    "X_test_scaled = scale(X_test)"
   ]
  },
  {
   "cell_type": "code",
   "execution_count": null,
   "id": "4eeb0c33",
   "metadata": {},
   "outputs": [],
   "source": [
    "model_svm = SVC(random_state=42)\n",
    "model_svm.fit(X_train_scaled, y_train)"
   ]
  },
  {
   "cell_type": "code",
   "execution_count": null,
   "id": "2284d2b5",
   "metadata": {},
   "outputs": [],
   "source": [
    "y_train_pred = model_svm.predict(X_train)\n",
    "y_test_pred = model_svm.predict(X_test)\n",
    "\n",
    "train_ans = accuracy_score(y_train, y_train_pred)\n",
    "test_ans = accuracy_score(y_test, y_test_pred)\n",
    "\n",
    "# print(df1.shape[0], train_ans, test_ans)\n",
    "print(train_ans, test_ans)"
   ]
  },
  {
   "cell_type": "code",
   "execution_count": null,
   "id": "3a64efcc",
   "metadata": {},
   "outputs": [],
   "source": [
    "param_grid = [\n",
    "    {'C' : [0.5, 1, 10, 100],\n",
    "     'gamma' : ['scale', 1, 0.1, 0.01, 0.001, 0.0001],\n",
    "     'kernel' : ['linear']},\n",
    "]"
   ]
  },
  {
   "cell_type": "code",
   "execution_count": null,
   "id": "4db705e1",
   "metadata": {},
   "outputs": [],
   "source": [
    "optimal_params = GridSearchCV(\n",
    "    SVC(),\n",
    "    param_grid,\n",
    "    cv=10,\n",
    "    scoring='accuracy',\n",
    "    verbose=0\n",
    ")\n",
    "optimal_params.fit(X_train_scaled, y_train)\n",
    "print(optimal_params.best_params_)"
   ]
  },
  {
   "cell_type": "code",
   "execution_count": null,
   "id": "0522ddc8",
   "metadata": {},
   "outputs": [],
   "source": [
    "# model_svm = SVC(random_state=42, C=10, gamma=0.1)\n",
    "model_svm = SVC(random_state=42, C=0.5, gamma='scale', kernel='linear')\n",
    "model_svm.fit(X_train_scaled, y_train)"
   ]
  },
  {
   "cell_type": "code",
   "execution_count": null,
   "id": "a2f2002e",
   "metadata": {},
   "outputs": [],
   "source": [
    "y_train_pred = model_svm.predict(X_train)\n",
    "y_test_pred = model_svm.predict(X_test)\n",
    "\n",
    "train_ans = accuracy_score(y_train, y_train_pred)\n",
    "test_ans = accuracy_score(y_test, y_test_pred)\n",
    "\n",
    "# print(df1.shape[0], train_ans, test_ans)\n",
    "print(train_ans, test_ans)"
   ]
  },
  {
   "cell_type": "code",
   "execution_count": null,
   "id": "dcce1581",
   "metadata": {},
   "outputs": [],
   "source": [
    "TrainingSet = [10, 32, 53, 75, 97, 118, 140, 162, 183, 205, 227, 248, 270, 292, 313, 335, 356, 378, 400, 421, 443, 465, 486, 508, 530, 551, 573, 594, 616, 638, 659, 681, 703, 724, 746, 768, 789, 811, 832, 854, 876, 897, 919, 941, 962, 984, 1006, 1027, 1049, 1071, 1090]\n",
    "\n",
    "size_data = 1190\n",
    "step = .02\n",
    "total = 50\n",
    "\n",
    "C=10\n",
    "gamma=0.1\n",
    "\n",
    "\n",
    "test_mean = []\n",
    "train_mean = []\n",
    "\n",
    "cnt = 1\n",
    "time_st = time.perf_counter()\n",
    "\n",
    "model_svm = NuSVR(random_state=42, C=0.5, gamma='scale', kernel='rbf')\n",
    "\n",
    "cnt = 1\n",
    "for i in TrainingSet:\n",
    "    \n",
    "    df1 = data_encoded.iloc[:i]\n",
    "    # print(df1.shape)\n",
    "    \n",
    "    X = df1.drop(['target'], axis = 1)\n",
    "    y = df1['target'].copy()\n",
    "#     y = df1[['target']]\n",
    "    \n",
    "    X_train, X_test, y_train, y_test = train_test_split(X, y, test_size=0.2)\n",
    "    X_train_scaled = scale(X_train)\n",
    "    X_test_scaled = scale(X_test)\n",
    "    \n",
    "    #model_svm = SVC(random_state=42, C=0.5, gamma='scale', kernel='linear')\n",
    "    model_svm.fit(X_train_scaled, y_train)\n",
    "      \n",
    "    y_train_pred = model_svm.predict(X_train)\n",
    "    y_test_pred = model_svm.predict(X_test)\n",
    "    \n",
    "    train_ans = accuracy_score(y_train, y_train_pred)\n",
    "    test_ans = accuracy_score(y_test, y_test_pred)\n",
    "    \n",
    "    print(df1.shape[0], train_ans, test_ans)\n",
    "    \n",
    "    train_mean.append(train_ans)\n",
    "    test_mean.append(test_ans)\n",
    "    \n",
    "#     if cnt == 2:\n",
    "#         break\n",
    "    cnt = cnt + 1\n",
    "    \n",
    "time_end = time.perf_counter()\n",
    "print(f\"time to run itteration {time_end - time_st:0.4f} seconds\")\n"
   ]
  },
  {
   "cell_type": "code",
   "execution_count": null,
   "id": "c7cd1389",
   "metadata": {},
   "outputs": [],
   "source": [
    "savePlot = True\n",
    "train_sizes = TrainingSet\n",
    "plt.plot(train_sizes, train_mean, label = 'Training Score')\n",
    "plt.plot(train_sizes, test_mean, label = 'Support Vector Machine')\n",
    "\n",
    "# plt.fill_between(train_sizes, train_mean-train_std, train_mean+train_std, color='#DDDDDD')\n",
    "# plt.fill_between(train_sizes, test_mean-test_std, test_mean+test_std, color='#DDDDDD')\n",
    "\n",
    "plt.title('Learning Curve (Support Vector Machine)(SVC)')\n",
    "plt.xlabel('Training Size')\n",
    "plt.ylabel('Accuracy Score')\n",
    "plt.legend(loc = 'best')\n",
    "if savePlot:\n",
    "    plt.savefig('images/Assgn1_SVM_SVC_Heart.png')"
   ]
  },
  {
   "cell_type": "code",
   "execution_count": null,
   "id": "2ab18448",
   "metadata": {},
   "outputs": [],
   "source": [
    "##################\n",
    "#\n",
    "# K Nearest Neighbors\n",
    "#\n",
    "##################"
   ]
  },
  {
   "cell_type": "code",
   "execution_count": null,
   "id": "38c27254",
   "metadata": {},
   "outputs": [],
   "source": [
    "# from sklearn.perprocessing import StandardScaler\n",
    "# from sklearn.preprocessing import scale\n",
    "\n",
    "scaler = StandardScaler()\n",
    "scaler.fit(X_train)\n",
    "X_train_sc = scaler.transform(X_train)\n",
    "X_test_sc = scaler.transform(X_test)"
   ]
  },
  {
   "cell_type": "code",
   "execution_count": null,
   "id": "91968c12",
   "metadata": {},
   "outputs": [],
   "source": [
    "model_KNN = KNeighborsClassifier(n_neighbors=10)\n",
    "model_KNN.fit(X_train_sc, y_train)"
   ]
  },
  {
   "cell_type": "code",
   "execution_count": null,
   "id": "8d32bf3d",
   "metadata": {},
   "outputs": [],
   "source": [
    "neighbors = 5\n",
    "\n",
    "for i in range(10, 16, 1):\n",
    "\n",
    "    model_KNN = KNeighborsClassifier(n_neighbors=i)\n",
    "    model_KNN.fit(X_train_sc, y_train)\n",
    "\n",
    "    y_pred = model_KNN.predict(X_test)\n",
    "    y_train_pred = model_KNN.predict(X_train_sc)\n",
    "    y_test_pred = model_KNN.predict(X_test_sc)\n",
    "\n",
    "    train_ans = accuracy_score(y_train, y_train_pred)\n",
    "    test_ans = accuracy_score(y_test, y_test_pred)\n",
    "\n",
    "    print(i, train_ans, test_ans)"
   ]
  },
  {
   "cell_type": "raw",
   "id": "d7cf68b5",
   "metadata": {},
   "source": [
    "# neighbors = 5\n",
    "\n",
    "for i in range(10, 16, 1):\n",
    "\n",
    "    model_KNN = KNeighborsClassifier(n_neighbors=i)\n",
    "    model_KNN.fit(X_train_sc, y_train)\n",
    "\n",
    "    y_pred = model_KNN.predict(X_test)\n",
    "    y_train_pred = model_KNN.predict(X_train_sc)\n",
    "    y_test_pred = model_KNN.predict(X_test_sc)\n",
    "\n",
    "    train_ans = accuracy_score(y_train, y_train_pred)\n",
    "    test_ans = accuracy_score(y_test, y_test_pred)\n",
    "\n",
    "    print(i, train_ans, test_ans)"
   ]
  },
  {
   "cell_type": "code",
   "execution_count": null,
   "id": "d8a71833",
   "metadata": {},
   "outputs": [],
   "source": [
    "TrainingSet = [32, 53, 75, 97, 118, 140, 162, 183, 205, 227, 248, 270, 292, 313, 335, 356, 378, 400, 421, 443, 465, 486, 508, 530, 551, 573, 594, 616, 638, 659, 681, 703, 724, 746, 768, 789, 811, 832, 854, 876, 897, 919, 941, 962, 984, 1006, 1027, 1049, 1071, 1090]\n",
    "\n",
    "size_data = 1190\n",
    "step = .02\n",
    "total = 50\n",
    "\n",
    "neighbor = 11\n",
    "\n",
    "test_mean = []\n",
    "train_mean = []\n",
    "\n",
    "cnt = 1\n",
    "time_st = time.perf_counter()\n",
    "\n",
    "model_KNN = KNeighborsClassifier(n_neighbors=neighbor)\n",
    "scaler = StandardScaler()\n",
    "\n",
    "cnt = 1\n",
    "for i in TrainingSet:\n",
    "    \n",
    "    df1 = data.iloc[:i]\n",
    "    # print(df1.shape)\n",
    "    \n",
    "    X = df1.drop(['target'], axis = 1)\n",
    "    y = df1['target'].copy()\n",
    "#     y = df1[['target']]\n",
    "    \n",
    "    X_train, X_test, y_train, y_test = train_test_split(X, y, test_size=0.2)\n",
    "\n",
    "    scaler.fit(X_train)\n",
    "    X_train_sc = scaler.transform(X_train)\n",
    "    X_test_sc = scaler.transform(X_test)\n",
    "    \n",
    "    #model_svm = SVC(random_state=42, C=0.5, gamma='scale', kernel='linear')\n",
    "    model_KNN.fit(X_train_sc, y_train)\n",
    "      \n",
    "    y_train_pred = model_KNN.predict(X_train_sc)\n",
    "    y_test_pred = model_KNN.predict(X_test_sc)\n",
    "    \n",
    "    train_ans = accuracy_score(y_train, y_train_pred)\n",
    "    test_ans = accuracy_score(y_test, y_test_pred)\n",
    "    \n",
    "    print(df1.shape[0], train_ans, test_ans)\n",
    "    \n",
    "    train_mean.append(train_ans)\n",
    "    test_mean.append(test_ans)\n",
    "    \n",
    "#     if cnt == 2:\n",
    "#         break\n",
    "    cnt = cnt + 1\n",
    "    \n",
    "time_end = time.perf_counter()\n",
    "print(f\"time to run itteration {time_end - time_st:0.4f} seconds\")\n"
   ]
  },
  {
   "cell_type": "code",
   "execution_count": null,
   "id": "a52922d6",
   "metadata": {},
   "outputs": [],
   "source": [
    "savePlot = True\n",
    "train_sizes = TrainingSet\n",
    "plt.plot(train_sizes, train_mean, label = 'Training Score')\n",
    "plt.plot(train_sizes, test_mean, label = 'K Nearest Neighbor')\n",
    "\n",
    "# plt.fill_between(train_sizes, train_mean-train_std, train_mean+train_std, color='#DDDDDD')\n",
    "# plt.fill_between(train_sizes, test_mean-test_std, test_mean+test_std, color='#DDDDDD')\n",
    "\n",
    "plt.title('Learning Curve (K Nearest Neighbor)(KNN)')\n",
    "plt.xlabel('Training Size')\n",
    "plt.ylabel('Accuracy Score')\n",
    "plt.legend(loc = 'best')\n",
    "# if savePlot:\n",
    "#     plt.savefig('images/Assgn1_KNN_10_Heart.png')"
   ]
  },
  {
   "cell_type": "code",
   "execution_count": null,
   "id": "9a776d74",
   "metadata": {},
   "outputs": [],
   "source": [
    "savePlot = True\n",
    "train_sizes = TrainingSet\n",
    "plt.plot(train_sizes, train_mean, label = 'Training Score')\n",
    "plt.plot(train_sizes, test_mean, label = 'K Nearest Neighbor')\n",
    "\n",
    "# plt.fill_between(train_sizes, train_mean-train_std, train_mean+train_std, color='#DDDDDD')\n",
    "# plt.fill_between(train_sizes, test_mean-test_std, test_mean+test_std, color='#DDDDDD')\n",
    "\n",
    "plt.title('Learning Curve (K Nearest Neighbor)(KNN)')\n",
    "plt.xlabel('Training Size')\n",
    "plt.ylabel('Accuracy Score')\n",
    "plt.legend(loc = 'best')\n",
    "# if savePlot:\n",
    "#     plt.savefig('images/Assgn1_KNN_10_Heart.png')"
   ]
  },
  {
   "cell_type": "code",
   "execution_count": null,
   "id": "fc1762d8",
   "metadata": {},
   "outputs": [],
   "source": [
    "scores = cross_val_score(model_KNN, X, y, cv = 10, scoring = 'accuracy')"
   ]
  },
  {
   "cell_type": "code",
   "execution_count": null,
   "id": "510629df",
   "metadata": {},
   "outputs": [],
   "source": [
    "print(scores)"
   ]
  },
  {
   "cell_type": "code",
   "execution_count": null,
   "id": "d5201340",
   "metadata": {},
   "outputs": [],
   "source": [
    "print(scores.mean())"
   ]
  },
  {
   "cell_type": "code",
   "execution_count": null,
   "id": "933e0da8",
   "metadata": {},
   "outputs": [],
   "source": [
    "k_range = range(1, 41)\n",
    "k_scores = []\n",
    "for i in range(1, 41, 1):\n",
    "    knn = KNeighborsClassifier(n_neighbors=i)\n",
    "    scores = cross_val_score(knn, X, y, cv = 5, scoring = 'accuracy')\n",
    "    k_scores.append(scores.mean())"
   ]
  },
  {
   "cell_type": "code",
   "execution_count": null,
   "id": "a31e0c8e",
   "metadata": {},
   "outputs": [],
   "source": [
    "k_range = range(1, 41)\n",
    "plt.plot(k_range, k_scores, label = 'Training Score')\n"
   ]
  }
 ],
 "metadata": {
  "kernelspec": {
   "display_name": "Python 3 (ipykernel)",
   "language": "python",
   "name": "python3"
  },
  "language_info": {
   "codemirror_mode": {
    "name": "ipython",
    "version": 3
   },
   "file_extension": ".py",
   "mimetype": "text/x-python",
   "name": "python",
   "nbconvert_exporter": "python",
   "pygments_lexer": "ipython3",
   "version": "3.9.13"
  }
 },
 "nbformat": 4,
 "nbformat_minor": 5
}
