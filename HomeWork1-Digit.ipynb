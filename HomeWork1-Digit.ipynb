{
 "cells": [
  {
   "cell_type": "code",
   "execution_count": 1,
   "id": "a63570a4",
   "metadata": {},
   "outputs": [],
   "source": [
    "import pandas as pd\n",
    "import numpy as np\n",
    "import matplotlib.pyplot as plt\n",
    "import matplotlib.colors as colors\n"
   ]
  },
  {
   "cell_type": "code",
   "execution_count": 2,
   "id": "db854792",
   "metadata": {},
   "outputs": [],
   "source": [
    "from sklearn.model_selection import train_test_split\n",
    "from sklearn.model_selection import RandomizedSearchCV\n",
    "from sklearn.model_selection import cross_validate\n",
    "from sklearn.model_selection import KFold\n",
    "from sklearn.model_selection import learning_curve\n",
    "from sklearn.model_selection import GridSearchCV\n",
    "from sklearn.model_selection import cross_val_score\n",
    "from sklearn.neural_network import MLPClassifier\n",
    "\n",
    "from sklearn.neighbors import KNeighborsClassifier\n",
    "\n",
    "\n",
    "from sklearn.utils import resample\n",
    "\n",
    "from sklearn.preprocessing import scale\n",
    "from sklearn.preprocessing import StandardScaler\n",
    "\n",
    "from sklearn.svm import SVC\n",
    "from sklearn.svm import NuSVR\n",
    "\n",
    "\n",
    "\n",
    "from sklearn.tree import DecisionTreeClassifier, export_graphviz\n",
    "from sklearn.tree import plot_tree\n",
    "\n",
    "from sklearn.ensemble import GradientBoostingClassifier\n",
    "\n",
    "from sklearn import metrics\n",
    "from sklearn.metrics import accuracy_score\n",
    "from sklearn.metrics import confusion_matrix\n",
    "from sklearn.metrics import plot_confusion_matrix\n",
    "\n",
    "from sklearn.decomposition import PCA\n",
    "\n",
    "\n",
    "import time"
   ]
  },
  {
   "cell_type": "code",
   "execution_count": 3,
   "id": "96317b26",
   "metadata": {},
   "outputs": [
    {
     "data": {
      "text/html": [
       "<div>\n",
       "<style scoped>\n",
       "    .dataframe tbody tr th:only-of-type {\n",
       "        vertical-align: middle;\n",
       "    }\n",
       "\n",
       "    .dataframe tbody tr th {\n",
       "        vertical-align: top;\n",
       "    }\n",
       "\n",
       "    .dataframe thead th {\n",
       "        text-align: right;\n",
       "    }\n",
       "</style>\n",
       "<table border=\"1\" class=\"dataframe\">\n",
       "  <thead>\n",
       "    <tr style=\"text-align: right;\">\n",
       "      <th></th>\n",
       "      <th>label</th>\n",
       "      <th>pixel0</th>\n",
       "      <th>pixel1</th>\n",
       "      <th>pixel2</th>\n",
       "      <th>pixel3</th>\n",
       "      <th>pixel4</th>\n",
       "      <th>pixel5</th>\n",
       "      <th>pixel6</th>\n",
       "      <th>pixel7</th>\n",
       "      <th>pixel8</th>\n",
       "      <th>...</th>\n",
       "      <th>pixel774</th>\n",
       "      <th>pixel775</th>\n",
       "      <th>pixel776</th>\n",
       "      <th>pixel777</th>\n",
       "      <th>pixel778</th>\n",
       "      <th>pixel779</th>\n",
       "      <th>pixel780</th>\n",
       "      <th>pixel781</th>\n",
       "      <th>pixel782</th>\n",
       "      <th>pixel783</th>\n",
       "    </tr>\n",
       "  </thead>\n",
       "  <tbody>\n",
       "    <tr>\n",
       "      <th>0</th>\n",
       "      <td>1</td>\n",
       "      <td>0</td>\n",
       "      <td>0</td>\n",
       "      <td>0</td>\n",
       "      <td>0</td>\n",
       "      <td>0</td>\n",
       "      <td>0</td>\n",
       "      <td>0</td>\n",
       "      <td>0</td>\n",
       "      <td>0</td>\n",
       "      <td>...</td>\n",
       "      <td>0</td>\n",
       "      <td>0</td>\n",
       "      <td>0</td>\n",
       "      <td>0</td>\n",
       "      <td>0</td>\n",
       "      <td>0</td>\n",
       "      <td>0</td>\n",
       "      <td>0</td>\n",
       "      <td>0</td>\n",
       "      <td>0</td>\n",
       "    </tr>\n",
       "    <tr>\n",
       "      <th>1</th>\n",
       "      <td>0</td>\n",
       "      <td>0</td>\n",
       "      <td>0</td>\n",
       "      <td>0</td>\n",
       "      <td>0</td>\n",
       "      <td>0</td>\n",
       "      <td>0</td>\n",
       "      <td>0</td>\n",
       "      <td>0</td>\n",
       "      <td>0</td>\n",
       "      <td>...</td>\n",
       "      <td>0</td>\n",
       "      <td>0</td>\n",
       "      <td>0</td>\n",
       "      <td>0</td>\n",
       "      <td>0</td>\n",
       "      <td>0</td>\n",
       "      <td>0</td>\n",
       "      <td>0</td>\n",
       "      <td>0</td>\n",
       "      <td>0</td>\n",
       "    </tr>\n",
       "    <tr>\n",
       "      <th>2</th>\n",
       "      <td>1</td>\n",
       "      <td>0</td>\n",
       "      <td>0</td>\n",
       "      <td>0</td>\n",
       "      <td>0</td>\n",
       "      <td>0</td>\n",
       "      <td>0</td>\n",
       "      <td>0</td>\n",
       "      <td>0</td>\n",
       "      <td>0</td>\n",
       "      <td>...</td>\n",
       "      <td>0</td>\n",
       "      <td>0</td>\n",
       "      <td>0</td>\n",
       "      <td>0</td>\n",
       "      <td>0</td>\n",
       "      <td>0</td>\n",
       "      <td>0</td>\n",
       "      <td>0</td>\n",
       "      <td>0</td>\n",
       "      <td>0</td>\n",
       "    </tr>\n",
       "    <tr>\n",
       "      <th>3</th>\n",
       "      <td>4</td>\n",
       "      <td>0</td>\n",
       "      <td>0</td>\n",
       "      <td>0</td>\n",
       "      <td>0</td>\n",
       "      <td>0</td>\n",
       "      <td>0</td>\n",
       "      <td>0</td>\n",
       "      <td>0</td>\n",
       "      <td>0</td>\n",
       "      <td>...</td>\n",
       "      <td>0</td>\n",
       "      <td>0</td>\n",
       "      <td>0</td>\n",
       "      <td>0</td>\n",
       "      <td>0</td>\n",
       "      <td>0</td>\n",
       "      <td>0</td>\n",
       "      <td>0</td>\n",
       "      <td>0</td>\n",
       "      <td>0</td>\n",
       "    </tr>\n",
       "    <tr>\n",
       "      <th>4</th>\n",
       "      <td>0</td>\n",
       "      <td>0</td>\n",
       "      <td>0</td>\n",
       "      <td>0</td>\n",
       "      <td>0</td>\n",
       "      <td>0</td>\n",
       "      <td>0</td>\n",
       "      <td>0</td>\n",
       "      <td>0</td>\n",
       "      <td>0</td>\n",
       "      <td>...</td>\n",
       "      <td>0</td>\n",
       "      <td>0</td>\n",
       "      <td>0</td>\n",
       "      <td>0</td>\n",
       "      <td>0</td>\n",
       "      <td>0</td>\n",
       "      <td>0</td>\n",
       "      <td>0</td>\n",
       "      <td>0</td>\n",
       "      <td>0</td>\n",
       "    </tr>\n",
       "  </tbody>\n",
       "</table>\n",
       "<p>5 rows × 785 columns</p>\n",
       "</div>"
      ],
      "text/plain": [
       "   label  pixel0  pixel1  pixel2  pixel3  pixel4  pixel5  pixel6  pixel7  \\\n",
       "0      1       0       0       0       0       0       0       0       0   \n",
       "1      0       0       0       0       0       0       0       0       0   \n",
       "2      1       0       0       0       0       0       0       0       0   \n",
       "3      4       0       0       0       0       0       0       0       0   \n",
       "4      0       0       0       0       0       0       0       0       0   \n",
       "\n",
       "   pixel8  ...  pixel774  pixel775  pixel776  pixel777  pixel778  pixel779  \\\n",
       "0       0  ...         0         0         0         0         0         0   \n",
       "1       0  ...         0         0         0         0         0         0   \n",
       "2       0  ...         0         0         0         0         0         0   \n",
       "3       0  ...         0         0         0         0         0         0   \n",
       "4       0  ...         0         0         0         0         0         0   \n",
       "\n",
       "   pixel780  pixel781  pixel782  pixel783  \n",
       "0         0         0         0         0  \n",
       "1         0         0         0         0  \n",
       "2         0         0         0         0  \n",
       "3         0         0         0         0  \n",
       "4         0         0         0         0  \n",
       "\n",
       "[5 rows x 785 columns]"
      ]
     },
     "execution_count": 3,
     "metadata": {},
     "output_type": "execute_result"
    }
   ],
   "source": [
    "data = pd.read_csv('Data/Digit/train.csv')\n",
    "data.head()"
   ]
  },
  {
   "cell_type": "code",
   "execution_count": 4,
   "id": "4488e096",
   "metadata": {},
   "outputs": [
    {
     "data": {
      "text/html": [
       "<div>\n",
       "<style scoped>\n",
       "    .dataframe tbody tr th:only-of-type {\n",
       "        vertical-align: middle;\n",
       "    }\n",
       "\n",
       "    .dataframe tbody tr th {\n",
       "        vertical-align: top;\n",
       "    }\n",
       "\n",
       "    .dataframe thead th {\n",
       "        text-align: right;\n",
       "    }\n",
       "</style>\n",
       "<table border=\"1\" class=\"dataframe\">\n",
       "  <thead>\n",
       "    <tr style=\"text-align: right;\">\n",
       "      <th></th>\n",
       "      <th>label</th>\n",
       "      <th>pixel0</th>\n",
       "      <th>pixel1</th>\n",
       "      <th>pixel2</th>\n",
       "      <th>pixel3</th>\n",
       "      <th>pixel4</th>\n",
       "      <th>pixel5</th>\n",
       "      <th>pixel6</th>\n",
       "      <th>pixel7</th>\n",
       "      <th>pixel8</th>\n",
       "      <th>...</th>\n",
       "      <th>pixel774</th>\n",
       "      <th>pixel775</th>\n",
       "      <th>pixel776</th>\n",
       "      <th>pixel777</th>\n",
       "      <th>pixel778</th>\n",
       "      <th>pixel779</th>\n",
       "      <th>pixel780</th>\n",
       "      <th>pixel781</th>\n",
       "      <th>pixel782</th>\n",
       "      <th>pixel783</th>\n",
       "    </tr>\n",
       "  </thead>\n",
       "  <tbody>\n",
       "    <tr>\n",
       "      <th>count</th>\n",
       "      <td>42000.000000</td>\n",
       "      <td>42000.0</td>\n",
       "      <td>42000.0</td>\n",
       "      <td>42000.0</td>\n",
       "      <td>42000.0</td>\n",
       "      <td>42000.0</td>\n",
       "      <td>42000.0</td>\n",
       "      <td>42000.0</td>\n",
       "      <td>42000.0</td>\n",
       "      <td>42000.0</td>\n",
       "      <td>...</td>\n",
       "      <td>42000.000000</td>\n",
       "      <td>42000.000000</td>\n",
       "      <td>42000.000000</td>\n",
       "      <td>42000.00000</td>\n",
       "      <td>42000.000000</td>\n",
       "      <td>42000.000000</td>\n",
       "      <td>42000.0</td>\n",
       "      <td>42000.0</td>\n",
       "      <td>42000.0</td>\n",
       "      <td>42000.0</td>\n",
       "    </tr>\n",
       "    <tr>\n",
       "      <th>mean</th>\n",
       "      <td>4.456643</td>\n",
       "      <td>0.0</td>\n",
       "      <td>0.0</td>\n",
       "      <td>0.0</td>\n",
       "      <td>0.0</td>\n",
       "      <td>0.0</td>\n",
       "      <td>0.0</td>\n",
       "      <td>0.0</td>\n",
       "      <td>0.0</td>\n",
       "      <td>0.0</td>\n",
       "      <td>...</td>\n",
       "      <td>0.219286</td>\n",
       "      <td>0.117095</td>\n",
       "      <td>0.059024</td>\n",
       "      <td>0.02019</td>\n",
       "      <td>0.017238</td>\n",
       "      <td>0.002857</td>\n",
       "      <td>0.0</td>\n",
       "      <td>0.0</td>\n",
       "      <td>0.0</td>\n",
       "      <td>0.0</td>\n",
       "    </tr>\n",
       "    <tr>\n",
       "      <th>std</th>\n",
       "      <td>2.887730</td>\n",
       "      <td>0.0</td>\n",
       "      <td>0.0</td>\n",
       "      <td>0.0</td>\n",
       "      <td>0.0</td>\n",
       "      <td>0.0</td>\n",
       "      <td>0.0</td>\n",
       "      <td>0.0</td>\n",
       "      <td>0.0</td>\n",
       "      <td>0.0</td>\n",
       "      <td>...</td>\n",
       "      <td>6.312890</td>\n",
       "      <td>4.633819</td>\n",
       "      <td>3.274488</td>\n",
       "      <td>1.75987</td>\n",
       "      <td>1.894498</td>\n",
       "      <td>0.414264</td>\n",
       "      <td>0.0</td>\n",
       "      <td>0.0</td>\n",
       "      <td>0.0</td>\n",
       "      <td>0.0</td>\n",
       "    </tr>\n",
       "    <tr>\n",
       "      <th>min</th>\n",
       "      <td>0.000000</td>\n",
       "      <td>0.0</td>\n",
       "      <td>0.0</td>\n",
       "      <td>0.0</td>\n",
       "      <td>0.0</td>\n",
       "      <td>0.0</td>\n",
       "      <td>0.0</td>\n",
       "      <td>0.0</td>\n",
       "      <td>0.0</td>\n",
       "      <td>0.0</td>\n",
       "      <td>...</td>\n",
       "      <td>0.000000</td>\n",
       "      <td>0.000000</td>\n",
       "      <td>0.000000</td>\n",
       "      <td>0.00000</td>\n",
       "      <td>0.000000</td>\n",
       "      <td>0.000000</td>\n",
       "      <td>0.0</td>\n",
       "      <td>0.0</td>\n",
       "      <td>0.0</td>\n",
       "      <td>0.0</td>\n",
       "    </tr>\n",
       "    <tr>\n",
       "      <th>25%</th>\n",
       "      <td>2.000000</td>\n",
       "      <td>0.0</td>\n",
       "      <td>0.0</td>\n",
       "      <td>0.0</td>\n",
       "      <td>0.0</td>\n",
       "      <td>0.0</td>\n",
       "      <td>0.0</td>\n",
       "      <td>0.0</td>\n",
       "      <td>0.0</td>\n",
       "      <td>0.0</td>\n",
       "      <td>...</td>\n",
       "      <td>0.000000</td>\n",
       "      <td>0.000000</td>\n",
       "      <td>0.000000</td>\n",
       "      <td>0.00000</td>\n",
       "      <td>0.000000</td>\n",
       "      <td>0.000000</td>\n",
       "      <td>0.0</td>\n",
       "      <td>0.0</td>\n",
       "      <td>0.0</td>\n",
       "      <td>0.0</td>\n",
       "    </tr>\n",
       "    <tr>\n",
       "      <th>50%</th>\n",
       "      <td>4.000000</td>\n",
       "      <td>0.0</td>\n",
       "      <td>0.0</td>\n",
       "      <td>0.0</td>\n",
       "      <td>0.0</td>\n",
       "      <td>0.0</td>\n",
       "      <td>0.0</td>\n",
       "      <td>0.0</td>\n",
       "      <td>0.0</td>\n",
       "      <td>0.0</td>\n",
       "      <td>...</td>\n",
       "      <td>0.000000</td>\n",
       "      <td>0.000000</td>\n",
       "      <td>0.000000</td>\n",
       "      <td>0.00000</td>\n",
       "      <td>0.000000</td>\n",
       "      <td>0.000000</td>\n",
       "      <td>0.0</td>\n",
       "      <td>0.0</td>\n",
       "      <td>0.0</td>\n",
       "      <td>0.0</td>\n",
       "    </tr>\n",
       "    <tr>\n",
       "      <th>75%</th>\n",
       "      <td>7.000000</td>\n",
       "      <td>0.0</td>\n",
       "      <td>0.0</td>\n",
       "      <td>0.0</td>\n",
       "      <td>0.0</td>\n",
       "      <td>0.0</td>\n",
       "      <td>0.0</td>\n",
       "      <td>0.0</td>\n",
       "      <td>0.0</td>\n",
       "      <td>0.0</td>\n",
       "      <td>...</td>\n",
       "      <td>0.000000</td>\n",
       "      <td>0.000000</td>\n",
       "      <td>0.000000</td>\n",
       "      <td>0.00000</td>\n",
       "      <td>0.000000</td>\n",
       "      <td>0.000000</td>\n",
       "      <td>0.0</td>\n",
       "      <td>0.0</td>\n",
       "      <td>0.0</td>\n",
       "      <td>0.0</td>\n",
       "    </tr>\n",
       "    <tr>\n",
       "      <th>max</th>\n",
       "      <td>9.000000</td>\n",
       "      <td>0.0</td>\n",
       "      <td>0.0</td>\n",
       "      <td>0.0</td>\n",
       "      <td>0.0</td>\n",
       "      <td>0.0</td>\n",
       "      <td>0.0</td>\n",
       "      <td>0.0</td>\n",
       "      <td>0.0</td>\n",
       "      <td>0.0</td>\n",
       "      <td>...</td>\n",
       "      <td>254.000000</td>\n",
       "      <td>254.000000</td>\n",
       "      <td>253.000000</td>\n",
       "      <td>253.00000</td>\n",
       "      <td>254.000000</td>\n",
       "      <td>62.000000</td>\n",
       "      <td>0.0</td>\n",
       "      <td>0.0</td>\n",
       "      <td>0.0</td>\n",
       "      <td>0.0</td>\n",
       "    </tr>\n",
       "  </tbody>\n",
       "</table>\n",
       "<p>8 rows × 785 columns</p>\n",
       "</div>"
      ],
      "text/plain": [
       "              label   pixel0   pixel1   pixel2   pixel3   pixel4   pixel5  \\\n",
       "count  42000.000000  42000.0  42000.0  42000.0  42000.0  42000.0  42000.0   \n",
       "mean       4.456643      0.0      0.0      0.0      0.0      0.0      0.0   \n",
       "std        2.887730      0.0      0.0      0.0      0.0      0.0      0.0   \n",
       "min        0.000000      0.0      0.0      0.0      0.0      0.0      0.0   \n",
       "25%        2.000000      0.0      0.0      0.0      0.0      0.0      0.0   \n",
       "50%        4.000000      0.0      0.0      0.0      0.0      0.0      0.0   \n",
       "75%        7.000000      0.0      0.0      0.0      0.0      0.0      0.0   \n",
       "max        9.000000      0.0      0.0      0.0      0.0      0.0      0.0   \n",
       "\n",
       "        pixel6   pixel7   pixel8  ...      pixel774      pixel775  \\\n",
       "count  42000.0  42000.0  42000.0  ...  42000.000000  42000.000000   \n",
       "mean       0.0      0.0      0.0  ...      0.219286      0.117095   \n",
       "std        0.0      0.0      0.0  ...      6.312890      4.633819   \n",
       "min        0.0      0.0      0.0  ...      0.000000      0.000000   \n",
       "25%        0.0      0.0      0.0  ...      0.000000      0.000000   \n",
       "50%        0.0      0.0      0.0  ...      0.000000      0.000000   \n",
       "75%        0.0      0.0      0.0  ...      0.000000      0.000000   \n",
       "max        0.0      0.0      0.0  ...    254.000000    254.000000   \n",
       "\n",
       "           pixel776     pixel777      pixel778      pixel779  pixel780  \\\n",
       "count  42000.000000  42000.00000  42000.000000  42000.000000   42000.0   \n",
       "mean       0.059024      0.02019      0.017238      0.002857       0.0   \n",
       "std        3.274488      1.75987      1.894498      0.414264       0.0   \n",
       "min        0.000000      0.00000      0.000000      0.000000       0.0   \n",
       "25%        0.000000      0.00000      0.000000      0.000000       0.0   \n",
       "50%        0.000000      0.00000      0.000000      0.000000       0.0   \n",
       "75%        0.000000      0.00000      0.000000      0.000000       0.0   \n",
       "max      253.000000    253.00000    254.000000     62.000000       0.0   \n",
       "\n",
       "       pixel781  pixel782  pixel783  \n",
       "count   42000.0   42000.0   42000.0  \n",
       "mean        0.0       0.0       0.0  \n",
       "std         0.0       0.0       0.0  \n",
       "min         0.0       0.0       0.0  \n",
       "25%         0.0       0.0       0.0  \n",
       "50%         0.0       0.0       0.0  \n",
       "75%         0.0       0.0       0.0  \n",
       "max         0.0       0.0       0.0  \n",
       "\n",
       "[8 rows x 785 columns]"
      ]
     },
     "execution_count": 4,
     "metadata": {},
     "output_type": "execute_result"
    }
   ],
   "source": [
    "#Evaluate the data, \n",
    "# all rows are filled\n",
    "# all the independent variavles are well distributed\n",
    "data.describe()"
   ]
  },
  {
   "cell_type": "code",
   "execution_count": 5,
   "id": "e0953d2e",
   "metadata": {},
   "outputs": [
    {
     "name": "stdout",
     "output_type": "stream",
     "text": [
      "(42000, 785)\n"
     ]
    }
   ],
   "source": [
    "print(data.shape)"
   ]
  },
  {
   "cell_type": "code",
   "execution_count": 6,
   "id": "16eeffef",
   "metadata": {},
   "outputs": [
    {
     "data": {
      "text/plain": [
       "array([1, 0, 4, 7, 3, 5, 8, 9, 2, 6], dtype=int64)"
      ]
     },
     "execution_count": 6,
     "metadata": {},
     "output_type": "execute_result"
    }
   ],
   "source": [
    "data['label'].unique()"
   ]
  },
  {
   "cell_type": "code",
   "execution_count": 7,
   "id": "c82ca9dd",
   "metadata": {},
   "outputs": [
    {
     "data": {
      "text/plain": [
       "label\n",
       "0    4132\n",
       "1    4684\n",
       "2    4177\n",
       "3    4351\n",
       "4    4072\n",
       "5    3795\n",
       "6    4137\n",
       "7    4401\n",
       "8    4063\n",
       "9    4188\n",
       "dtype: int64"
      ]
     },
     "execution_count": 7,
     "metadata": {},
     "output_type": "execute_result"
    }
   ],
   "source": [
    "#show that the label is about 50%\n",
    "data.groupby('label').size()"
   ]
  },
  {
   "cell_type": "code",
   "execution_count": 8,
   "id": "a1de34fe",
   "metadata": {},
   "outputs": [],
   "source": [
    "# # Set up the dATA\n",
    "# X = data.drop(['label'], axis = 1)\n",
    "# y = data[['label']]"
   ]
  },
  {
   "cell_type": "code",
   "execution_count": 9,
   "id": "00d87c45",
   "metadata": {},
   "outputs": [
    {
     "data": {
      "text/html": [
       "<div>\n",
       "<style scoped>\n",
       "    .dataframe tbody tr th:only-of-type {\n",
       "        vertical-align: middle;\n",
       "    }\n",
       "\n",
       "    .dataframe tbody tr th {\n",
       "        vertical-align: top;\n",
       "    }\n",
       "\n",
       "    .dataframe thead th {\n",
       "        text-align: right;\n",
       "    }\n",
       "</style>\n",
       "<table border=\"1\" class=\"dataframe\">\n",
       "  <thead>\n",
       "    <tr style=\"text-align: right;\">\n",
       "      <th></th>\n",
       "      <th>pixel0</th>\n",
       "      <th>pixel1</th>\n",
       "      <th>pixel2</th>\n",
       "      <th>pixel3</th>\n",
       "      <th>pixel4</th>\n",
       "      <th>pixel5</th>\n",
       "      <th>pixel6</th>\n",
       "      <th>pixel7</th>\n",
       "      <th>pixel8</th>\n",
       "      <th>pixel9</th>\n",
       "      <th>...</th>\n",
       "      <th>pixel774</th>\n",
       "      <th>pixel775</th>\n",
       "      <th>pixel776</th>\n",
       "      <th>pixel777</th>\n",
       "      <th>pixel778</th>\n",
       "      <th>pixel779</th>\n",
       "      <th>pixel780</th>\n",
       "      <th>pixel781</th>\n",
       "      <th>pixel782</th>\n",
       "      <th>pixel783</th>\n",
       "    </tr>\n",
       "  </thead>\n",
       "  <tbody>\n",
       "    <tr>\n",
       "      <th>0</th>\n",
       "      <td>0</td>\n",
       "      <td>0</td>\n",
       "      <td>0</td>\n",
       "      <td>0</td>\n",
       "      <td>0</td>\n",
       "      <td>0</td>\n",
       "      <td>0</td>\n",
       "      <td>0</td>\n",
       "      <td>0</td>\n",
       "      <td>0</td>\n",
       "      <td>...</td>\n",
       "      <td>0</td>\n",
       "      <td>0</td>\n",
       "      <td>0</td>\n",
       "      <td>0</td>\n",
       "      <td>0</td>\n",
       "      <td>0</td>\n",
       "      <td>0</td>\n",
       "      <td>0</td>\n",
       "      <td>0</td>\n",
       "      <td>0</td>\n",
       "    </tr>\n",
       "    <tr>\n",
       "      <th>1</th>\n",
       "      <td>0</td>\n",
       "      <td>0</td>\n",
       "      <td>0</td>\n",
       "      <td>0</td>\n",
       "      <td>0</td>\n",
       "      <td>0</td>\n",
       "      <td>0</td>\n",
       "      <td>0</td>\n",
       "      <td>0</td>\n",
       "      <td>0</td>\n",
       "      <td>...</td>\n",
       "      <td>0</td>\n",
       "      <td>0</td>\n",
       "      <td>0</td>\n",
       "      <td>0</td>\n",
       "      <td>0</td>\n",
       "      <td>0</td>\n",
       "      <td>0</td>\n",
       "      <td>0</td>\n",
       "      <td>0</td>\n",
       "      <td>0</td>\n",
       "    </tr>\n",
       "    <tr>\n",
       "      <th>2</th>\n",
       "      <td>0</td>\n",
       "      <td>0</td>\n",
       "      <td>0</td>\n",
       "      <td>0</td>\n",
       "      <td>0</td>\n",
       "      <td>0</td>\n",
       "      <td>0</td>\n",
       "      <td>0</td>\n",
       "      <td>0</td>\n",
       "      <td>0</td>\n",
       "      <td>...</td>\n",
       "      <td>0</td>\n",
       "      <td>0</td>\n",
       "      <td>0</td>\n",
       "      <td>0</td>\n",
       "      <td>0</td>\n",
       "      <td>0</td>\n",
       "      <td>0</td>\n",
       "      <td>0</td>\n",
       "      <td>0</td>\n",
       "      <td>0</td>\n",
       "    </tr>\n",
       "    <tr>\n",
       "      <th>3</th>\n",
       "      <td>0</td>\n",
       "      <td>0</td>\n",
       "      <td>0</td>\n",
       "      <td>0</td>\n",
       "      <td>0</td>\n",
       "      <td>0</td>\n",
       "      <td>0</td>\n",
       "      <td>0</td>\n",
       "      <td>0</td>\n",
       "      <td>0</td>\n",
       "      <td>...</td>\n",
       "      <td>0</td>\n",
       "      <td>0</td>\n",
       "      <td>0</td>\n",
       "      <td>0</td>\n",
       "      <td>0</td>\n",
       "      <td>0</td>\n",
       "      <td>0</td>\n",
       "      <td>0</td>\n",
       "      <td>0</td>\n",
       "      <td>0</td>\n",
       "    </tr>\n",
       "    <tr>\n",
       "      <th>4</th>\n",
       "      <td>0</td>\n",
       "      <td>0</td>\n",
       "      <td>0</td>\n",
       "      <td>0</td>\n",
       "      <td>0</td>\n",
       "      <td>0</td>\n",
       "      <td>0</td>\n",
       "      <td>0</td>\n",
       "      <td>0</td>\n",
       "      <td>0</td>\n",
       "      <td>...</td>\n",
       "      <td>0</td>\n",
       "      <td>0</td>\n",
       "      <td>0</td>\n",
       "      <td>0</td>\n",
       "      <td>0</td>\n",
       "      <td>0</td>\n",
       "      <td>0</td>\n",
       "      <td>0</td>\n",
       "      <td>0</td>\n",
       "      <td>0</td>\n",
       "    </tr>\n",
       "  </tbody>\n",
       "</table>\n",
       "<p>5 rows × 784 columns</p>\n",
       "</div>"
      ],
      "text/plain": [
       "   pixel0  pixel1  pixel2  pixel3  pixel4  pixel5  pixel6  pixel7  pixel8  \\\n",
       "0       0       0       0       0       0       0       0       0       0   \n",
       "1       0       0       0       0       0       0       0       0       0   \n",
       "2       0       0       0       0       0       0       0       0       0   \n",
       "3       0       0       0       0       0       0       0       0       0   \n",
       "4       0       0       0       0       0       0       0       0       0   \n",
       "\n",
       "   pixel9  ...  pixel774  pixel775  pixel776  pixel777  pixel778  pixel779  \\\n",
       "0       0  ...         0         0         0         0         0         0   \n",
       "1       0  ...         0         0         0         0         0         0   \n",
       "2       0  ...         0         0         0         0         0         0   \n",
       "3       0  ...         0         0         0         0         0         0   \n",
       "4       0  ...         0         0         0         0         0         0   \n",
       "\n",
       "   pixel780  pixel781  pixel782  pixel783  \n",
       "0         0         0         0         0  \n",
       "1         0         0         0         0  \n",
       "2         0         0         0         0  \n",
       "3         0         0         0         0  \n",
       "4         0         0         0         0  \n",
       "\n",
       "[5 rows x 784 columns]"
      ]
     },
     "execution_count": 9,
     "metadata": {},
     "output_type": "execute_result"
    }
   ],
   "source": [
    "X = data.drop('label', axis = 1).copy()\n",
    "X.head()"
   ]
  },
  {
   "cell_type": "code",
   "execution_count": 10,
   "id": "2285615a",
   "metadata": {},
   "outputs": [
    {
     "data": {
      "text/plain": [
       "0    1\n",
       "1    0\n",
       "2    1\n",
       "3    4\n",
       "4    0\n",
       "Name: label, dtype: int64"
      ]
     },
     "execution_count": 10,
     "metadata": {},
     "output_type": "execute_result"
    }
   ],
   "source": [
    "y = data['label'].copy()\n",
    "y.head()"
   ]
  },
  {
   "cell_type": "code",
   "execution_count": 11,
   "id": "b07e49a8",
   "metadata": {},
   "outputs": [
    {
     "name": "stdout",
     "output_type": "stream",
     "text": [
      "<class 'pandas.core.frame.DataFrame'>\n",
      "RangeIndex: 42000 entries, 0 to 41999\n",
      "Columns: 784 entries, pixel0 to pixel783\n",
      "dtypes: int64(784)\n",
      "memory usage: 251.2 MB\n"
     ]
    }
   ],
   "source": [
    "# check results\n",
    "X.info()"
   ]
  },
  {
   "cell_type": "code",
   "execution_count": 12,
   "id": "8c345351",
   "metadata": {},
   "outputs": [
    {
     "name": "stdout",
     "output_type": "stream",
     "text": [
      "<class 'pandas.core.series.Series'>\n",
      "RangeIndex: 42000 entries, 0 to 41999\n",
      "Series name: label\n",
      "Non-Null Count  Dtype\n",
      "--------------  -----\n",
      "42000 non-null  int64\n",
      "dtypes: int64(1)\n",
      "memory usage: 328.2 KB\n"
     ]
    }
   ],
   "source": [
    "# check results\n",
    "y.info()"
   ]
  },
  {
   "cell_type": "code",
   "execution_count": 13,
   "id": "744af32e",
   "metadata": {},
   "outputs": [
    {
     "data": {
      "text/plain": [
       "((33600, 784), (8400, 784), (33600,), (8400,))"
      ]
     },
     "execution_count": 13,
     "metadata": {},
     "output_type": "execute_result"
    }
   ],
   "source": [
    "X_train, X_test, y_train, y_test = train_test_split(X, y, test_size=0.2)\n",
    "X_train.shape, X_test.shape, y_train.shape, y_test.shape"
   ]
  },
  {
   "cell_type": "code",
   "execution_count": null,
   "id": "e89cc862",
   "metadata": {},
   "outputs": [],
   "source": [
    "##################\n",
    "#\n",
    "# Decision Tree\n",
    "#\n",
    "##################"
   ]
  },
  {
   "cell_type": "code",
   "execution_count": null,
   "id": "c7becb5d",
   "metadata": {},
   "outputs": [],
   "source": [
    "# model_tree = DecisionTreeClassifier(max_leaf_nodes=8, class_weight='balanced', criterion ='entropy')\n",
    "model_tree = DecisionTreeClassifier()\n",
    "model_tree.fit(X_train, y_train)"
   ]
  },
  {
   "cell_type": "code",
   "execution_count": null,
   "id": "07199f02",
   "metadata": {},
   "outputs": [],
   "source": [
    "var_columns = [c for c in X_train.columns]\n",
    "# print(var_columns)"
   ]
  },
  {
   "cell_type": "code",
   "execution_count": null,
   "id": "984b6449",
   "metadata": {},
   "outputs": [],
   "source": [
    "plt.figure(figsize=(20,10))\n",
    "\n",
    "var_columns = [c for c in X_train.columns]\n",
    "\n",
    "plot_tree(model_tree,\n",
    "         feature_names = var_columns,\n",
    "         class_names = [\"0\", \"1\"],\n",
    "         rounded = True,\n",
    "         filled = True)\n",
    "\n",
    "plt.show()"
   ]
  },
  {
   "cell_type": "code",
   "execution_count": null,
   "id": "0e8a4e1d",
   "metadata": {},
   "outputs": [],
   "source": [
    "y_train_pred = model_tree.predict(X_train)\n",
    "y_test_pred = model_tree.predict(X_test)\n",
    "# print('y_train_pred :', y_train_pred)\n",
    "# print('y_test_prod :', y_test_prod)"
   ]
  },
  {
   "cell_type": "code",
   "execution_count": null,
   "id": "93090baf",
   "metadata": {},
   "outputs": [],
   "source": [
    "train_ans = accuracy_score(y_train, y_train_pred)\n",
    "test_ans = accuracy_score(y_test, y_test_pred)\n",
    "\n",
    "print(train_ans, test_ans)"
   ]
  },
  {
   "cell_type": "code",
   "execution_count": null,
   "id": "f54f9d54",
   "metadata": {},
   "outputs": [],
   "source": [
    "def tree_training(max_depth, X_train, X_test, y_train, y_test):\n",
    "    \n",
    "#     model_tree = DecisionTreeClassifier(max_depth=max_depth, class_weight='balanced')\n",
    "    model_tree = DecisionTreeClassifier(max_depth=max_depth, class_weight='balanced', criterion ='entropy')\n",
    "\n",
    "    model_tree.fit(X_train, y_train)\n",
    "    \n",
    "    #train_pred = model_tree.predict(X_train)\n",
    "    test_pred = model_tree.predict(X_test)\n",
    "    \n",
    "    test_score = metrics.accuracy_score(y_test, test_pred)\n",
    "\n",
    "    print(\"Depth:{}, predict:{:.4f}\".format(max_depth, test_score))\n",
    "          "
   ]
  },
  {
   "cell_type": "code",
   "execution_count": null,
   "id": "6d6b8e37",
   "metadata": {},
   "outputs": [],
   "source": [
    "# split = [0, 0.2, 0.4, 0.6, 0.8]\n",
    "split = [0, 0.1, 0.2, 0.3, 0.4, 0.5, 0.6, 0.7, 0.8]\n",
    "\n",
    "\n",
    "cnt = 1\n",
    "for i in range (0 , len(split)):\n",
    "    print(f\"Run count {cnt}, persentage data {split[i]}\")\n",
    "    if cnt == 1:\n",
    "        X_train = X\n",
    "        y_train = y\n",
    "    else:\n",
    "        X_train, X_test, y_train, y_test = train_test_split(X, y, test_size=split[i])\n",
    "    print(X_train.shape, y_train.shape)\n",
    "    \n",
    "        \n",
    "    X_train, X_test, y_train, y_test = train_test_split(X_train, y_train, test_size=0.2)\n",
    "\n",
    "    \n",
    "    print(X_train.shape, X_test.shape, y_train.shape, y_test.shape)\n",
    "\n",
    "\n",
    "    time_st = time.perf_counter()\n",
    "    for i in range(2, 20):\n",
    "        tree_training(i, X_train,  X_test, y_train, y_test)\n",
    "    time_end = time.perf_counter()\n",
    "    print(f\"time to run itteration {time_end - time_st:0.4f} seconds\")\n",
    "    \n",
    "    cnt = cnt + 1"
   ]
  },
  {
   "cell_type": "code",
   "execution_count": null,
   "id": "8169a472",
   "metadata": {},
   "outputs": [],
   "source": [
    "var_columns = [c for c in X_train.columns]\n",
    "# print(var_columns)"
   ]
  },
  {
   "cell_type": "code",
   "execution_count": null,
   "id": "e757faa5",
   "metadata": {},
   "outputs": [],
   "source": [
    "#Confirm the Accuracy of the Depth of the tree with K Fold\n",
    "kfold = KFold(5, shuffle=True, random_state=1)\n",
    "\n",
    "for idx_train, idx_test in kfold.split(data):\n",
    "    X_train = data.loc[idx_train, var_columns]\n",
    "    y_train = data.loc[idx_train, 'label']\n",
    "    \n",
    "    X_test = data.loc[idx_test, var_columns]\n",
    "    y_test = data.loc[idx_test, 'label']\n",
    "    \n",
    "    print(X_train.shape, X_test.shape, y_train.shape, y_test.shape)\n",
    "    \n",
    "    # Try 10 leaf nodes, we saw lot of leaf nodes don't increase performance\n",
    "    print(\"Iteration Starts\")\n",
    "    for i in range(2, 20):\n",
    "        tree_training(i, X_train, X_test, y_train, y_test)\n",
    "    \n",
    "    print(\"Iteration Ends\\n-----------------------\")"
   ]
  },
  {
   "cell_type": "code",
   "execution_count": null,
   "id": "0b703af2",
   "metadata": {},
   "outputs": [],
   "source": [
    "time_st = time.perf_counter()\n",
    "\n",
    "train_sizes, train_scores, test_scores = learning_curve(DecisionTreeClassifier(max_depth=11, class_weight='balanced'), X, y, scoring='accuracy', n_jobs=-1, cv = 5, train_sizes=np.linspace(0.01, 1, 20), verbose=1 )\n",
    "\n",
    "time_end = time.perf_counter()\n",
    "print(f\"time to run itteration {time_end - time_st:0.4f} seconds\")    "
   ]
  },
  {
   "cell_type": "code",
   "execution_count": null,
   "id": "8846ebfa",
   "metadata": {},
   "outputs": [],
   "source": [
    "train_mean = np.mean(train_scores, axis = 1)\n",
    "train_mean"
   ]
  },
  {
   "cell_type": "code",
   "execution_count": null,
   "id": "cb4d830c",
   "metadata": {},
   "outputs": [],
   "source": [
    "train_std = np.std(train_scores, axis = 1)\n",
    "train_std"
   ]
  },
  {
   "cell_type": "code",
   "execution_count": null,
   "id": "7d1a64d7",
   "metadata": {},
   "outputs": [],
   "source": [
    "test_mean = np.mean(test_scores, axis = 1)\n",
    "test_mean"
   ]
  },
  {
   "cell_type": "code",
   "execution_count": null,
   "id": "81e4577a",
   "metadata": {},
   "outputs": [],
   "source": [
    "test_std = np.std(test_scores, axis = 1)\n",
    "test_std"
   ]
  },
  {
   "cell_type": "code",
   "execution_count": null,
   "id": "776463d7",
   "metadata": {},
   "outputs": [],
   "source": [
    "savePlot = True\n",
    "plt.plot(train_sizes, train_mean, label = 'Training Score')\n",
    "plt.plot(train_sizes, test_mean, label = 'Cross-Validation Score')\n",
    "\n",
    "# plt.fill_between(train_sizes, train_mean-train_std, train_mean+train_std, color='#DDDDDD')\n",
    "# plt.fill_between(train_sizes, test_mean-test_std, test_mean+test_std, color='#DDDDDD')\n",
    "\n",
    "plt.title('Learning Curve (Decision Tree)')\n",
    "plt.xlabel('Training Size')\n",
    "plt.ylabel('Accuracy Score')\n",
    "plt.legend(loc = 'best')\n",
    "# if savePlot:\n",
    "#     plt.savefig('images/Assgn1_DT_Digit.png')"
   ]
  },
  {
   "cell_type": "code",
   "execution_count": null,
   "id": "01a70d49",
   "metadata": {},
   "outputs": [],
   "source": [
    "##################\n",
    "#\n",
    "# NEURAL NETWORKS\n",
    "#\n",
    "##################"
   ]
  },
  {
   "cell_type": "code",
   "execution_count": null,
   "id": "fc022edf",
   "metadata": {},
   "outputs": [],
   "source": [
    "hidden_layer = 10\n",
    "acitvation = 'logistic'"
   ]
  },
  {
   "cell_type": "code",
   "execution_count": null,
   "id": "4a1d0bbb",
   "metadata": {},
   "outputs": [],
   "source": [
    "X_train, X_test, y_train, y_test = train_test_split(X, y, test_size=0.2)\n",
    "X_train.shape, X_test.shape, y_train.shape, y_test.shape"
   ]
  },
  {
   "cell_type": "code",
   "execution_count": null,
   "id": "db604950",
   "metadata": {},
   "outputs": [],
   "source": [
    "model_nn = MLPClassifier()\n",
    "model_nn.fit(X_train, y_train)\n",
    "\n",
    "train_pred = model_nn.predict(X_train) \n",
    "train_score = round(metrics.accuracy_score(y_train, train_pred) * 100, 2)\n",
    "\n",
    "test_pred = model_nn.predict(X_test) \n",
    "test_score = round(metrics.accuracy_score(y_test, test_pred) * 100, 2)\n",
    "\n",
    "print(train_score, test_score)\n"
   ]
  },
  {
   "cell_type": "code",
   "execution_count": null,
   "id": "0308d2fd",
   "metadata": {},
   "outputs": [],
   "source": [
    "\n",
    "time_st = time.perf_counter()\n",
    "\n",
    "train_sizes, train_scores, test_scores = learning_curve(MLPClassifier(hidden_layer_sizes=(hidden_layer,), activation=acitvation), X, y, scoring='accuracy', n_jobs=-1, cv = 5, train_sizes=np.linspace(0.01, 1, 10), verbose=1 )\n",
    "\n",
    "time_end = time.perf_counter()\n",
    "print(f\"time to run itteration {time_end - time_st:0.4f} seconds\")   "
   ]
  },
  {
   "cell_type": "code",
   "execution_count": null,
   "id": "49d3b01e",
   "metadata": {},
   "outputs": [],
   "source": [
    "train_mean = np.mean(train_scores, axis = 1)\n",
    "train_std = np.std(train_scores, axis = 1)\n",
    "test_mean = np.mean(test_scores, axis = 1)\n",
    "test_std = np.std(test_scores, axis = 1)"
   ]
  },
  {
   "cell_type": "code",
   "execution_count": null,
   "id": "9d922d08",
   "metadata": {},
   "outputs": [],
   "source": [
    "savePlot = True\n",
    "plt.plot(train_sizes, train_mean, label = 'Training Score')\n",
    "plt.plot(train_sizes, test_mean, label = 'Neural Network Score')\n",
    "\n",
    "# plt.fill_between(train_sizes, train_mean-train_std, train_mean+train_std, color='#DDDDDD')\n",
    "# plt.fill_between(train_sizes, test_mean-test_std, test_mean+test_std, color='#DDDDDD')\n",
    "\n",
    "plt.title('Learning Curve (Neural Networks)')\n",
    "plt.xlabel('Training Size')\n",
    "plt.ylabel('Accuracy Score')\n",
    "plt.legend(loc = 'best')\n",
    "if savePlot:\n",
    "    plt.savefig('images/Assgn1_NN_Digit.png')"
   ]
  },
  {
   "cell_type": "code",
   "execution_count": null,
   "id": "50187f33",
   "metadata": {},
   "outputs": [],
   "source": [
    "##################\n",
    "#\n",
    "# Boosting using Gradient Boosting\n",
    "#\n",
    "##################"
   ]
  },
  {
   "cell_type": "code",
   "execution_count": null,
   "id": "53ca9161",
   "metadata": {},
   "outputs": [],
   "source": [
    "from sklearn.ensemble import RandomForestClassifier"
   ]
  },
  {
   "cell_type": "code",
   "execution_count": null,
   "id": "ae3a15a8",
   "metadata": {},
   "outputs": [],
   "source": [
    "num_trees = 50\n",
    "max_depth = 4\n",
    "\n",
    "model_rf = RandomForestClassifier(n_estimators=num_trees, max_depth=max_depth, class_weight='balanced')\n",
    "\n",
    "model_rf.fit(X_train, y_train)"
   ]
  },
  {
   "cell_type": "code",
   "execution_count": null,
   "id": "431304df",
   "metadata": {},
   "outputs": [],
   "source": [
    "y_train_pred = model_rf.predict(X_train)\n",
    "y_test_pred = model_rf.predict(X_test)"
   ]
  },
  {
   "cell_type": "code",
   "execution_count": null,
   "id": "1383e1e9",
   "metadata": {},
   "outputs": [],
   "source": [
    "train_sizes, train_scores, test_scores = learning_curve(RandomForestClassifier(n_estimators=num_trees, max_depth=max_depth, class_weight='balanced'), X, y, scoring='accuracy', n_jobs=-1,  train_sizes=np.linspace(0.01, 1, 20), verbose=1 )"
   ]
  },
  {
   "cell_type": "code",
   "execution_count": null,
   "id": "a6a3f493",
   "metadata": {},
   "outputs": [],
   "source": [
    "TrainingSet = [336,2086,3837,5588,7338,9089,10840,12591,14341,16092,17843,19594,21344,23095,24846,26597,28347,30098,31849,33600]"
   ]
  },
  {
   "cell_type": "code",
   "execution_count": null,
   "id": "bc3d7c43",
   "metadata": {},
   "outputs": [],
   "source": [
    "train_mean = np.mean(train_scores, axis = 1)\n",
    "train_std = np.std(train_scores, axis = 1)\n",
    "test_mean = np.mean(test_scores, axis = 1)\n",
    "test_std = np.std(test_scores, axis = 1)"
   ]
  },
  {
   "cell_type": "code",
   "execution_count": null,
   "id": "5e823a00",
   "metadata": {},
   "outputs": [],
   "source": [
    "TrainingSet = [336,2086,3837,5588,7338,9089,10840,12591,14341,16092,17843,19594,21344,23095,24846,26597,28347,30098,31849,33600]\n",
    "\n",
    "num_trees = 50\n",
    "max_depth = 11\n",
    "\n",
    "# n_estimators = 210\n",
    "# max_features = 'log2'\n",
    "# max_depth = 40\n",
    "# criterion = 'gini'\n",
    "\n",
    "test_mean = []\n",
    "train_mean = []\n",
    "\n",
    "cnt = 1\n",
    "time_st = time.perf_counter()\n",
    "\n",
    "for i in TrainingSet:\n",
    "    \n",
    "    df1 = data.iloc[:i]\n",
    "    # print(df1.shape)\n",
    "    \n",
    "    X = df1.drop(['label'], axis = 1)\n",
    "    y = df1[['label']]\n",
    "    \n",
    "    X_train, X_test, y_train, y_test = train_test_split(X, y, test_size=0.2)\n",
    "    \n",
    "    model_rf = RandomForestClassifier(n_estimators=num_trees, max_depth=max_depth, class_weight='balanced',max_features = 'log2')\n",
    "    \n",
    "    model_rf.fit(X_train, y_train)\n",
    "      \n",
    "    y_train_pred = model_rf.predict(X_train)\n",
    "    y_test_pred = model_rf.predict(X_test)\n",
    "    \n",
    "    train_ans = accuracy_score(y_train, y_train_pred)\n",
    "    test_ans = accuracy_score(y_test, y_test_pred)\n",
    "    \n",
    "    print(df1.shape[0], train_ans, test_ans)\n",
    "    \n",
    "    train_mean.append(train_ans)\n",
    "    test_mean.append(test_ans)\n",
    "    \n",
    "time_end = time.perf_counter()\n",
    "print(f\"time to run itteration {time_end - time_st:0.4f} seconds\")\n",
    "\n"
   ]
  },
  {
   "cell_type": "code",
   "execution_count": null,
   "id": "9857edd3",
   "metadata": {},
   "outputs": [],
   "source": [
    "for i in range(0, len(test_mean)):\n",
    "    #print(TrainingSet[i], train_mean[i], test_mean[i], )\n",
    "    a = 1\n"
   ]
  },
  {
   "cell_type": "code",
   "execution_count": null,
   "id": "ec871a27",
   "metadata": {},
   "outputs": [],
   "source": [
    "savePlot = True\n",
    "train_sizes = TrainingSet\n",
    "plt.plot(train_sizes, train_mean, label = 'Training Score')\n",
    "plt.plot(train_sizes, test_mean, label = 'Random Forest Score')\n",
    "\n",
    "# plt.fill_between(train_sizes, train_mean-train_std, train_mean+train_std, color='#DDDDDD')\n",
    "# plt.fill_between(train_sizes, test_mean-test_std, test_mean+test_std, color='#DDDDDD')\n",
    "\n",
    "plt.title('Learning Curve (Random Forest)')\n",
    "plt.xlabel('Training Size')\n",
    "plt.ylabel('Accuracy Score')\n",
    "plt.legend(loc = 'best')\n",
    "if savePlot:\n",
    "    plt.savefig('images/Assgn1_RF_Digit.png')"
   ]
  },
  {
   "cell_type": "code",
   "execution_count": null,
   "id": "dae63913",
   "metadata": {},
   "outputs": [],
   "source": [
    "from sklearn.model_selection import RandomizedSearchCV, GridSearchCV"
   ]
  },
  {
   "cell_type": "code",
   "execution_count": null,
   "id": "044a3b4e",
   "metadata": {},
   "outputs": [],
   "source": [
    "n_estimators_list = list(range(10,220,50))\n",
    "criterion_list = ['gini', 'entropy']\n",
    "max_depth_list = list(range(5,26,5))\n",
    "max_depth_list.append(None)\n",
    "# min_samples_split_list = [x/1000 for x in list(range(5, 41, 10))]\n",
    "# min_samples_leaf_list = [x/1000 for x in list(range(5, 41, 10))]\n",
    "max_features_list = ['sqrt', 'log2']\n",
    "\n",
    "params_grid = {\n",
    "    'n_estimators': n_estimators_list,\n",
    "    'criterion': criterion_list,\n",
    "    'max_depth': max_depth_list,\n",
    "    'max_features': max_features_list\n",
    "}\n",
    "\n",
    "num_combinations = 1\n",
    "for k in params_grid.keys(): num_combinations *= len(params_grid[k])\n",
    "\n",
    "print('Number of combinations = ', num_combinations)\n",
    "params_grid"
   ]
  },
  {
   "cell_type": "code",
   "execution_count": null,
   "id": "4acd4ac5",
   "metadata": {},
   "outputs": [],
   "source": [
    "def my_roc_auc_score(model, X, y): return metrics.roc_auc_score(y, model.predict(X))\n",
    "\n",
    "model_rf = RandomizedSearchCV(estimator=RandomForestClassifier(class_weight='balanced'),\n",
    "                              param_distributions=params_grid,\n",
    "                              n_iter=50,\n",
    "                              cv=5,\n",
    "                              scoring=my_roc_auc_score,\n",
    "                              return_train_score=True,\n",
    "                              verbose=2)\n",
    "\n",
    "model_rf.fit(X,y)"
   ]
  },
  {
   "cell_type": "code",
   "execution_count": null,
   "id": "817690f4",
   "metadata": {},
   "outputs": [],
   "source": [
    "model_rf.best_params_"
   ]
  },
  {
   "cell_type": "code",
   "execution_count": null,
   "id": "234bace1",
   "metadata": {},
   "outputs": [],
   "source": [
    "##################\n",
    "#\n",
    "# Support Vector Machines\n",
    "#\n",
    "##################"
   ]
  },
  {
   "cell_type": "code",
   "execution_count": null,
   "id": "95189810",
   "metadata": {},
   "outputs": [],
   "source": [
    "y.head()"
   ]
  },
  {
   "cell_type": "code",
   "execution_count": null,
   "id": "d05be9a2",
   "metadata": {},
   "outputs": [],
   "source": [
    "X_train, X_test, y_train, y_test = train_test_split(X, y, test_size=0.2)\n",
    "X_train_scaled = scale(X_train)\n",
    "X_test_scaled = scale(X_test)"
   ]
  },
  {
   "cell_type": "code",
   "execution_count": null,
   "id": "29a78f2c",
   "metadata": {},
   "outputs": [],
   "source": [
    "model_svm = SVC(random_state=42)\n",
    "model_svm.fit(X_train_scaled, y_train)"
   ]
  },
  {
   "cell_type": "code",
   "execution_count": null,
   "id": "101d5f90",
   "metadata": {},
   "outputs": [],
   "source": [
    "y_train_pred = model_svm.predict(X_train)\n",
    "y_test_pred = model_svm.predict(X_test)\n",
    "\n",
    "train_ans = accuracy_score(y_train, y_train_pred)\n",
    "test_ans = accuracy_score(y_test, y_test_pred)\n",
    "\n",
    "# print(df1.shape[0], train_ans, test_ans)\n",
    "print(train_ans, test_ans)"
   ]
  },
  {
   "cell_type": "code",
   "execution_count": null,
   "id": "bb3c34e3",
   "metadata": {},
   "outputs": [],
   "source": [
    "param_grid = [\n",
    "    {'C' : [0.5, 1, 10, 100],\n",
    "     'gamma' : ['scale', 1, 0.1, 0.01, 0.001, 0.0001],\n",
    "     'kernel' : ['linear']},\n",
    "]"
   ]
  },
  {
   "cell_type": "code",
   "execution_count": null,
   "id": "173a11bc",
   "metadata": {},
   "outputs": [],
   "source": [
    "optimal_params = GridSearchCV(\n",
    "    SVC(),\n",
    "    param_grid,\n",
    "    cv=10,\n",
    "    scoring='accuracy',\n",
    "    verbose=0\n",
    ")\n",
    "optimal_params.fit(X_train_scaled, y_train)\n",
    "print(optimal_params.best_params_)"
   ]
  },
  {
   "cell_type": "code",
   "execution_count": null,
   "id": "022ef562",
   "metadata": {},
   "outputs": [],
   "source": [
    "# model_svm = SVC(random_state=42, C=10, gamma=0.1)\n",
    "model_svm = SVC(random_state=42, C=0.5, gamma='scale', kernel='linear')\n",
    "model_svm.fit(X_train_scaled, y_train)"
   ]
  },
  {
   "cell_type": "code",
   "execution_count": null,
   "id": "9b8e9474",
   "metadata": {},
   "outputs": [],
   "source": [
    "y_train_pred = model_svm.predict(X_train)\n",
    "y_test_pred = model_svm.predict(X_test)\n",
    "\n",
    "train_ans = accuracy_score(y_train, y_train_pred)\n",
    "test_ans = accuracy_score(y_test, y_test_pred)\n",
    "\n",
    "# print(df1.shape[0], train_ans, test_ans)\n",
    "print(train_ans, test_ans)"
   ]
  },
  {
   "cell_type": "code",
   "execution_count": null,
   "id": "204a7245",
   "metadata": {},
   "outputs": [],
   "source": [
    "#TrainingSet = [336,2086,3837,5588,7338,9089,10840,12591,14341,16092,17843,19594,21344,23095,24846,26597,28347,30098,31849,33600]\n",
    "TrainingSet = [336,3837,7338,10840,14341,17843,21344,24846,28347,31849]\n",
    "\n",
    "\n",
    "\n",
    "\n",
    "C=10\n",
    "gamma=0.1\n",
    "\n",
    "\n",
    "test_mean = []\n",
    "train_mean = []\n",
    "\n",
    "cnt = 1\n",
    "time_st = time.perf_counter()\n",
    "\n",
    "model_svm = SVC(random_state=42, C=0.5, gamma='scale', kernel='rbf')\n",
    "\n",
    "cnt = 1\n",
    "for i in TrainingSet:\n",
    "    \n",
    "    df1 = data.iloc[:i]\n",
    "    # print(df1.shape)\n",
    "    \n",
    "    X = df1.drop(['label'], axis = 1)\n",
    "    y = df1['label'].copy()\n",
    "#     y = df1[['label']]\n",
    "    \n",
    "    X_train, X_test, y_train, y_test = train_test_split(X, y, test_size=0.2)\n",
    "    X_train_scaled = scale(X_train)\n",
    "    X_test_scaled = scale(X_test)\n",
    "    \n",
    "    #model_svm = SVC(random_state=42, C=0.5, gamma='scale', kernel='linear')\n",
    "    model_svm.fit(X_train_scaled, y_train)\n",
    "      \n",
    "    y_train_pred = model_svm.predict(X_train)\n",
    "    y_test_pred = model_svm.predict(X_test)\n",
    "    \n",
    "    train_ans = accuracy_score(y_train, y_train_pred)\n",
    "    test_ans = accuracy_score(y_test, y_test_pred)\n",
    "    \n",
    "    print(df1.shape[0], train_ans, test_ans)\n",
    "    \n",
    "    train_mean.append(train_ans)\n",
    "    test_mean.append(test_ans)\n",
    "    \n",
    "#     if cnt == 2:\n",
    "#         break\n",
    "    cnt = cnt + 1\n",
    "    \n",
    "time_end = time.perf_counter()\n",
    "print(f\"time to run itteration {time_end - time_st:0.4f} seconds\")\n"
   ]
  },
  {
   "cell_type": "code",
   "execution_count": null,
   "id": "7b3e63f3",
   "metadata": {},
   "outputs": [],
   "source": [
    "savePlot = True\n",
    "train_sizes = TrainingSet\n",
    "plt.plot(train_sizes, train_mean, label = 'Training Score')\n",
    "plt.plot(train_sizes, test_mean, label = 'Support Vector Machine')\n",
    "\n",
    "# plt.fill_between(train_sizes, train_mean-train_std, train_mean+train_std, color='#DDDDDD')\n",
    "# plt.fill_between(train_sizes, test_mean-test_std, test_mean+test_std, color='#DDDDDD')\n",
    "\n",
    "plt.title('Learning Curve (Support Vector Machine)(SVC)')\n",
    "plt.xlabel('Training Size')\n",
    "plt.ylabel('Accuracy Score')\n",
    "plt.legend(loc = 'best')\n",
    "if savePlot:\n",
    "    plt.savefig('images/Assgn1_SVM_SVC_Digit.png')"
   ]
  },
  {
   "cell_type": "code",
   "execution_count": null,
   "id": "ca816f05",
   "metadata": {},
   "outputs": [],
   "source": [
    "##################\n",
    "#\n",
    "# K Nearest Neighbors\n",
    "#\n",
    "##################"
   ]
  },
  {
   "cell_type": "code",
   "execution_count": 14,
   "id": "84d30abc",
   "metadata": {},
   "outputs": [],
   "source": [
    "# from sklearn.perprocessing import StandardScaler\n",
    "# from sklearn.preprocessing import scale\n",
    "\n",
    "scaler = StandardScaler()\n",
    "scaler.fit(X_train)\n",
    "X_train_sc = scaler.transform(X_train)\n",
    "X_test_sc = scaler.transform(X_test)"
   ]
  },
  {
   "cell_type": "code",
   "execution_count": null,
   "id": "80ea40b2",
   "metadata": {},
   "outputs": [],
   "source": [
    "model_KNN = KNeighborsClassifier(n_neighbors=10)\n",
    "model_KNN.fit(X_train_sc, y_train)"
   ]
  },
  {
   "cell_type": "code",
   "execution_count": 16,
   "id": "7406885e",
   "metadata": {},
   "outputs": [
    {
     "name": "stderr",
     "output_type": "stream",
     "text": [
      "C:\\Users\\darshan.w.lam\\Anaconda3\\envs\\ml\\lib\\site-packages\\sklearn\\base.py:443: UserWarning: X has feature names, but KNeighborsClassifier was fitted without feature names\n",
      "  warnings.warn(\n"
     ]
    },
    {
     "name": "stdout",
     "output_type": "stream",
     "text": [
      "2 0.966875 0.9238095238095239\n"
     ]
    },
    {
     "name": "stderr",
     "output_type": "stream",
     "text": [
      "C:\\Users\\darshan.w.lam\\Anaconda3\\envs\\ml\\lib\\site-packages\\sklearn\\base.py:443: UserWarning: X has feature names, but KNeighborsClassifier was fitted without feature names\n",
      "  warnings.warn(\n"
     ]
    },
    {
     "name": "stdout",
     "output_type": "stream",
     "text": [
      "3 0.9680654761904762 0.9363095238095238\n"
     ]
    },
    {
     "name": "stderr",
     "output_type": "stream",
     "text": [
      "C:\\Users\\darshan.w.lam\\Anaconda3\\envs\\ml\\lib\\site-packages\\sklearn\\base.py:443: UserWarning: X has feature names, but KNeighborsClassifier was fitted without feature names\n",
      "  warnings.warn(\n"
     ]
    },
    {
     "name": "stdout",
     "output_type": "stream",
     "text": [
      "4 0.9602083333333333 0.9336904761904762\n"
     ]
    }
   ],
   "source": [
    "neighbors = 5\n",
    "\n",
    "for i in range(2, 15, 1):\n",
    "\n",
    "    model_KNN = KNeighborsClassifier(n_neighbors=i)\n",
    "    model_KNN.fit(X_train_sc, y_train)\n",
    "\n",
    "    y_pred = model_KNN.predict(X_test)\n",
    "    y_train_pred = model_KNN.predict(X_train_sc)\n",
    "    y_test_pred = model_KNN.predict(X_test_sc)\n",
    "\n",
    "    train_ans = accuracy_score(y_train, y_train_pred)\n",
    "    test_ans = accuracy_score(y_test, y_test_pred)\n",
    "\n",
    "    print(i, train_ans, test_ans)"
   ]
  },
  {
   "cell_type": "code",
   "execution_count": 17,
   "id": "ba9e956b",
   "metadata": {},
   "outputs": [
    {
     "name": "stdout",
     "output_type": "stream",
     "text": [
      "336 0.8432835820895522 0.7058823529411765\n",
      "3837 0.9335288367546432 0.8763020833333334\n",
      "7338 0.9456558773424191 0.9005449591280654\n",
      "10840 0.9534132841328413 0.9165129151291513\n",
      "14341 0.9569386331938633 0.9191355873126525\n",
      "17843 0.960137312596329 0.9215466517231717\n",
      "21344 0.9624597364568082 0.917545092527524\n",
      "24846 0.9611591869591467 0.9235412474849095\n",
      "28347 0.9627375755170438 0.9329805996472663\n",
      "31849 0.9651477687507359 0.9290423861852434\n",
      "time to run itteration 88.7062 seconds\n"
     ]
    }
   ],
   "source": [
    "#TrainingSet = [336,2086,3837,5588,7338,9089,10840,12591,14341,16092,17843,19594,21344,23095,24846,26597,28347,30098,31849,33600]\n",
    "TrainingSet = [336,3837,7338,10840,14341,17843,21344,24846,28347,31849]\n",
    "\n",
    "neighbor = 3\n",
    "\n",
    "test_mean = []\n",
    "train_mean = []\n",
    "\n",
    "cnt = 1\n",
    "time_st = time.perf_counter()\n",
    "\n",
    "model_KNN = KNeighborsClassifier(n_neighbors=neighbor)\n",
    "scaler = StandardScaler()\n",
    "\n",
    "cnt = 1\n",
    "for i in TrainingSet:\n",
    "    \n",
    "    df1 = data.iloc[:i]\n",
    "    # print(df1.shape)\n",
    "    \n",
    "    X = df1.drop(['label'], axis = 1)\n",
    "    y = df1['label'].copy()\n",
    "#     y = df1[['label']]\n",
    "    \n",
    "    X_train, X_test, y_train, y_test = train_test_split(X, y, test_size=0.2)\n",
    "\n",
    "    scaler.fit(X_train)\n",
    "    X_train_sc = scaler.transform(X_train)\n",
    "    X_test_sc = scaler.transform(X_test)\n",
    "    \n",
    "    #model_svm = SVC(random_state=42, C=0.5, gamma='scale', kernel='linear')\n",
    "    model_KNN.fit(X_train_sc, y_train)\n",
    "      \n",
    "    y_train_pred = model_KNN.predict(X_train_sc)\n",
    "    y_test_pred = model_KNN.predict(X_test_sc)\n",
    "    \n",
    "    train_ans = accuracy_score(y_train, y_train_pred)\n",
    "    test_ans = accuracy_score(y_test, y_test_pred)\n",
    "    \n",
    "    print(df1.shape[0], train_ans, test_ans)\n",
    "    \n",
    "    train_mean.append(train_ans)\n",
    "    test_mean.append(test_ans)\n",
    "    \n",
    "#     if cnt == 2:\n",
    "#         break\n",
    "    cnt = cnt + 1\n",
    "    \n",
    "time_end = time.perf_counter()\n",
    "print(f\"time to run itteration {time_end - time_st:0.4f} seconds\")\n"
   ]
  },
  {
   "cell_type": "code",
   "execution_count": 18,
   "id": "95ac10f3",
   "metadata": {},
   "outputs": [
    {
     "data": {
      "text/plain": [
       "<matplotlib.legend.Legend at 0x1e002ce1880>"
      ]
     },
     "execution_count": 18,
     "metadata": {},
     "output_type": "execute_result"
    },
    {
     "data": {
      "image/png": "[encoded data removed]",
      "text/plain": [
       "<Figure size 432x288 with 1 Axes>"
      ]
     },
     "metadata": {
      "needs_background": "light"
     },
     "output_type": "display_data"
    }
   ],
   "source": [
    "savePlot = True\n",
    "train_sizes = TrainingSet\n",
    "plt.plot(train_sizes, train_mean, label = 'Training Score')\n",
    "plt.plot(train_sizes, test_mean, label = 'K Nearest Neighbor')\n",
    "\n",
    "# plt.fill_between(train_sizes, train_mean-train_std, train_mean+train_std, color='#DDDDDD')\n",
    "# plt.fill_between(train_sizes, test_mean-test_std, test_mean+test_std, color='#DDDDDD')\n",
    "\n",
    "plt.title('Learning Curve (K Nearest Neighbor)(KNN)')\n",
    "plt.xlabel('Training Size')\n",
    "plt.ylabel('Accuracy Score')\n",
    "plt.legend(loc = 'best')\n",
    "# if savePlot:\n",
    "#     plt.savefig('images/Assgn1_KNN_10_Digit.png')"
   ]
  },
  {
   "cell_type": "code",
   "execution_count": 19,
   "id": "8f30bbbb",
   "metadata": {},
   "outputs": [
    {
     "data": {
      "image/png": "[encoded data removed]",
      "text/plain": [
       "<Figure size 432x288 with 1 Axes>"
      ]
     },
     "metadata": {
      "needs_background": "light"
     },
     "output_type": "display_data"
    }
   ],
   "source": [
    "savePlot = True\n",
    "train_sizes = TrainingSet\n",
    "plt.plot(train_sizes, train_mean, label = 'Training Score')\n",
    "plt.plot(train_sizes, test_mean, label = 'K Nearest Neighbor')\n",
    "\n",
    "# plt.fill_between(train_sizes, train_mean-train_std, train_mean+train_std, color='#DDDDDD')\n",
    "# plt.fill_between(train_sizes, test_mean-test_std, test_mean+test_std, color='#DDDDDD')\n",
    "\n",
    "plt.title('Learning Curve (K Nearest Neighbor)(KNN)')\n",
    "plt.xlabel('Training Size')\n",
    "plt.ylabel('Accuracy Score')\n",
    "plt.legend(loc = 'best')\n",
    "if savePlot:\n",
    "    plt.savefig('images/Assgn1_KNN_10_Digit.png')"
   ]
  },
  {
   "cell_type": "code",
   "execution_count": null,
   "id": "c2152b23",
   "metadata": {},
   "outputs": [],
   "source": [
    "scores = cross_val_score(model_KNN, X, y, cv = 10, scoring = 'accuracy')"
   ]
  },
  {
   "cell_type": "code",
   "execution_count": null,
   "id": "83107c44",
   "metadata": {},
   "outputs": [],
   "source": [
    "print(scores)"
   ]
  },
  {
   "cell_type": "code",
   "execution_count": null,
   "id": "b97ccec7",
   "metadata": {},
   "outputs": [],
   "source": [
    "print(scores.mean())"
   ]
  },
  {
   "cell_type": "code",
   "execution_count": null,
   "id": "f27a8683",
   "metadata": {},
   "outputs": [],
   "source": [
    "k_range = range(1, 41)\n",
    "k_scores = []\n",
    "for i in range(1, 41, 1):\n",
    "    knn = KNeighborsClassifier(n_neighbors=i)\n",
    "    scores = cross_val_score(knn, X, y, cv = 5, scoring = 'accuracy')\n",
    "    k_scores.append(scores.mean())"
   ]
  },
  {
   "cell_type": "code",
   "execution_count": null,
   "id": "7b39cb8f",
   "metadata": {},
   "outputs": [],
   "source": [
    "k_range = range(1, 41)\n",
    "plt.plot(k_range, k_scores, label = 'Training Score')\n"
   ]
  }
 ],
 "metadata": {
  "kernelspec": {
   "display_name": "Python 3 (ipykernel)",
   "language": "python",
   "name": "python3"
  },
  "language_info": {
   "codemirror_mode": {
    "name": "ipython",
    "version": 3
   },
   "file_extension": ".py",
   "mimetype": "text/x-python",
   "name": "python",
   "nbconvert_exporter": "python",
   "pygments_lexer": "ipython3",
   "version": "3.9.13"
  }
 },
 "nbformat": 4,
 "nbformat_minor": 5
}
